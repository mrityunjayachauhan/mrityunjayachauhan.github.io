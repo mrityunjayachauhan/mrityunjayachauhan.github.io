{
 "cells": [
  {
   "cell_type": "markdown",
   "metadata": {},
   "source": [
    "## Survival of Titanic Disaster using Logistic Regression\n",
    "\n",
    "\n",
    "Data Source: Kaggle [Titanic Dataset](https://www.kaggle.com/c/titanic](https://www.kaggle.com/c/titanic)"
   ]
  },
  {
   "cell_type": "markdown",
   "metadata": {
    "collapsed": true
   },
   "source": [
    "The sinking of the Titanic is one of the most infamous shipwrecks in history.\n",
    "\n",
    "On April 15, 1912, during her maiden voyage, the widely considered “unsinkable” RMS Titanic sank after colliding with an iceberg. Unfortunately, there weren’t enough lifeboats for everyone onboard, resulting in the death of 1502 out of 2224 passengers and crew.\n",
    "\n",
    "While there was some element of luck involved in surviving, it seems some groups of people were more likely to survive than others.\n",
    "\n",
    "We are going to build a predictive model that answers the question:  Who had survived?"
   ]
  },
  {
   "cell_type": "markdown",
   "metadata": {},
   "source": [
    "### 1. Environment Setup"
   ]
  },
  {
   "cell_type": "code",
   "execution_count": 1,
   "metadata": {},
   "outputs": [],
   "source": [
    "# Importing necessary librarires\n",
    "import numpy as np \n",
    "import pandas as pd \n",
    "import seaborn as sns\n",
    "from matplotlib import pyplot as plt\n",
    "from matplotlib import style\n",
    "%matplotlib inline\n",
    "import math\n",
    "\n",
    "#To display more lines in default print commands:\n",
    "pd.set_option('display.max_rows', 500)\n",
    "pd.set_option('display.max_columns', 500)\n",
    "pd.set_option('display.width', 1000)"
   ]
  },
  {
   "cell_type": "code",
   "execution_count": 2,
   "metadata": {},
   "outputs": [
    {
     "data": {
      "text/html": [
       "<div>\n",
       "<style scoped>\n",
       "    .dataframe tbody tr th:only-of-type {\n",
       "        vertical-align: middle;\n",
       "    }\n",
       "\n",
       "    .dataframe tbody tr th {\n",
       "        vertical-align: top;\n",
       "    }\n",
       "\n",
       "    .dataframe thead th {\n",
       "        text-align: right;\n",
       "    }\n",
       "</style>\n",
       "<table border=\"1\" class=\"dataframe\">\n",
       "  <thead>\n",
       "    <tr style=\"text-align: right;\">\n",
       "      <th></th>\n",
       "      <th>PassengerId</th>\n",
       "      <th>Survived</th>\n",
       "      <th>Pclass</th>\n",
       "      <th>Name</th>\n",
       "      <th>Sex</th>\n",
       "      <th>Age</th>\n",
       "      <th>SibSp</th>\n",
       "      <th>Parch</th>\n",
       "      <th>Ticket</th>\n",
       "      <th>Fare</th>\n",
       "      <th>Cabin</th>\n",
       "      <th>Embarked</th>\n",
       "    </tr>\n",
       "  </thead>\n",
       "  <tbody>\n",
       "    <tr>\n",
       "      <th>0</th>\n",
       "      <td>1</td>\n",
       "      <td>0</td>\n",
       "      <td>3</td>\n",
       "      <td>Braund, Mr. Owen Harris</td>\n",
       "      <td>male</td>\n",
       "      <td>22.0</td>\n",
       "      <td>1</td>\n",
       "      <td>0</td>\n",
       "      <td>A/5 21171</td>\n",
       "      <td>7.2500</td>\n",
       "      <td>NaN</td>\n",
       "      <td>S</td>\n",
       "    </tr>\n",
       "    <tr>\n",
       "      <th>1</th>\n",
       "      <td>2</td>\n",
       "      <td>1</td>\n",
       "      <td>1</td>\n",
       "      <td>Cumings, Mrs. John Bradley (Florence Briggs Th...</td>\n",
       "      <td>female</td>\n",
       "      <td>38.0</td>\n",
       "      <td>1</td>\n",
       "      <td>0</td>\n",
       "      <td>PC 17599</td>\n",
       "      <td>71.2833</td>\n",
       "      <td>C85</td>\n",
       "      <td>C</td>\n",
       "    </tr>\n",
       "    <tr>\n",
       "      <th>2</th>\n",
       "      <td>3</td>\n",
       "      <td>1</td>\n",
       "      <td>3</td>\n",
       "      <td>Heikkinen, Miss. Laina</td>\n",
       "      <td>female</td>\n",
       "      <td>26.0</td>\n",
       "      <td>0</td>\n",
       "      <td>0</td>\n",
       "      <td>STON/O2. 3101282</td>\n",
       "      <td>7.9250</td>\n",
       "      <td>NaN</td>\n",
       "      <td>S</td>\n",
       "    </tr>\n",
       "    <tr>\n",
       "      <th>3</th>\n",
       "      <td>4</td>\n",
       "      <td>1</td>\n",
       "      <td>1</td>\n",
       "      <td>Futrelle, Mrs. Jacques Heath (Lily May Peel)</td>\n",
       "      <td>female</td>\n",
       "      <td>35.0</td>\n",
       "      <td>1</td>\n",
       "      <td>0</td>\n",
       "      <td>113803</td>\n",
       "      <td>53.1000</td>\n",
       "      <td>C123</td>\n",
       "      <td>S</td>\n",
       "    </tr>\n",
       "    <tr>\n",
       "      <th>4</th>\n",
       "      <td>5</td>\n",
       "      <td>0</td>\n",
       "      <td>3</td>\n",
       "      <td>Allen, Mr. William Henry</td>\n",
       "      <td>male</td>\n",
       "      <td>35.0</td>\n",
       "      <td>0</td>\n",
       "      <td>0</td>\n",
       "      <td>373450</td>\n",
       "      <td>8.0500</td>\n",
       "      <td>NaN</td>\n",
       "      <td>S</td>\n",
       "    </tr>\n",
       "  </tbody>\n",
       "</table>\n",
       "</div>"
      ],
      "text/plain": [
       "   PassengerId  Survived  Pclass                                               Name     Sex   Age  SibSp  Parch            Ticket     Fare Cabin Embarked\n",
       "0            1         0       3                            Braund, Mr. Owen Harris    male  22.0      1      0         A/5 21171   7.2500   NaN        S\n",
       "1            2         1       1  Cumings, Mrs. John Bradley (Florence Briggs Th...  female  38.0      1      0          PC 17599  71.2833   C85        C\n",
       "2            3         1       3                             Heikkinen, Miss. Laina  female  26.0      0      0  STON/O2. 3101282   7.9250   NaN        S\n",
       "3            4         1       1       Futrelle, Mrs. Jacques Heath (Lily May Peel)  female  35.0      1      0            113803  53.1000  C123        S\n",
       "4            5         0       3                           Allen, Mr. William Henry    male  35.0      0      0            373450   8.0500   NaN        S"
      ]
     },
     "execution_count": 2,
     "metadata": {},
     "output_type": "execute_result"
    }
   ],
   "source": [
    "titanic = pd.read_csv(r\"C:\\Mrityunjaya\\Learning\\ML\\Logistic\\titanic.csv\")\n",
    "titanic.head()"
   ]
  },
  {
   "cell_type": "markdown",
   "metadata": {},
   "source": [
    "### 2. Exploratory Data Analysis"
   ]
  },
  {
   "cell_type": "code",
   "execution_count": 3,
   "metadata": {},
   "outputs": [
    {
     "name": "stdout",
     "output_type": "stream",
     "text": [
      "Number of passengers in original data: 891\n",
      "Shape of Data: (891, 12)\n"
     ]
    }
   ],
   "source": [
    "print(\"Number of passengers in original data:\", len(titanic))\n",
    "print(\"Shape of Data:\",titanic.shape)"
   ]
  },
  {
   "cell_type": "code",
   "execution_count": 4,
   "metadata": {},
   "outputs": [
    {
     "name": "stdout",
     "output_type": "stream",
     "text": [
      "<class 'pandas.core.frame.DataFrame'>\n",
      "RangeIndex: 891 entries, 0 to 890\n",
      "Data columns (total 12 columns):\n",
      " #   Column       Non-Null Count  Dtype  \n",
      "---  ------       --------------  -----  \n",
      " 0   PassengerId  891 non-null    int64  \n",
      " 1   Survived     891 non-null    int64  \n",
      " 2   Pclass       891 non-null    int64  \n",
      " 3   Name         891 non-null    object \n",
      " 4   Sex          891 non-null    object \n",
      " 5   Age          714 non-null    float64\n",
      " 6   SibSp        891 non-null    int64  \n",
      " 7   Parch        891 non-null    int64  \n",
      " 8   Ticket       891 non-null    object \n",
      " 9   Fare         891 non-null    float64\n",
      " 10  Cabin        204 non-null    object \n",
      " 11  Embarked     889 non-null    object \n",
      "dtypes: float64(2), int64(5), object(5)\n",
      "memory usage: 83.7+ KB\n"
     ]
    }
   ],
   "source": [
    "titanic.info()"
   ]
  },
  {
   "cell_type": "code",
   "execution_count": 5,
   "metadata": {},
   "outputs": [
    {
     "data": {
      "text/html": [
       "<div>\n",
       "<style scoped>\n",
       "    .dataframe tbody tr th:only-of-type {\n",
       "        vertical-align: middle;\n",
       "    }\n",
       "\n",
       "    .dataframe tbody tr th {\n",
       "        vertical-align: top;\n",
       "    }\n",
       "\n",
       "    .dataframe thead th {\n",
       "        text-align: right;\n",
       "    }\n",
       "</style>\n",
       "<table border=\"1\" class=\"dataframe\">\n",
       "  <thead>\n",
       "    <tr style=\"text-align: right;\">\n",
       "      <th></th>\n",
       "      <th>PassengerId</th>\n",
       "      <th>Survived</th>\n",
       "      <th>Pclass</th>\n",
       "      <th>Age</th>\n",
       "      <th>SibSp</th>\n",
       "      <th>Parch</th>\n",
       "      <th>Fare</th>\n",
       "    </tr>\n",
       "  </thead>\n",
       "  <tbody>\n",
       "    <tr>\n",
       "      <th>count</th>\n",
       "      <td>891.000000</td>\n",
       "      <td>891.000000</td>\n",
       "      <td>891.000000</td>\n",
       "      <td>714.000000</td>\n",
       "      <td>891.000000</td>\n",
       "      <td>891.000000</td>\n",
       "      <td>891.000000</td>\n",
       "    </tr>\n",
       "    <tr>\n",
       "      <th>mean</th>\n",
       "      <td>446.000000</td>\n",
       "      <td>0.383838</td>\n",
       "      <td>2.308642</td>\n",
       "      <td>29.699118</td>\n",
       "      <td>0.523008</td>\n",
       "      <td>0.381594</td>\n",
       "      <td>32.204208</td>\n",
       "    </tr>\n",
       "    <tr>\n",
       "      <th>std</th>\n",
       "      <td>257.353842</td>\n",
       "      <td>0.486592</td>\n",
       "      <td>0.836071</td>\n",
       "      <td>14.526497</td>\n",
       "      <td>1.102743</td>\n",
       "      <td>0.806057</td>\n",
       "      <td>49.693429</td>\n",
       "    </tr>\n",
       "    <tr>\n",
       "      <th>min</th>\n",
       "      <td>1.000000</td>\n",
       "      <td>0.000000</td>\n",
       "      <td>1.000000</td>\n",
       "      <td>0.420000</td>\n",
       "      <td>0.000000</td>\n",
       "      <td>0.000000</td>\n",
       "      <td>0.000000</td>\n",
       "    </tr>\n",
       "    <tr>\n",
       "      <th>25%</th>\n",
       "      <td>223.500000</td>\n",
       "      <td>0.000000</td>\n",
       "      <td>2.000000</td>\n",
       "      <td>20.125000</td>\n",
       "      <td>0.000000</td>\n",
       "      <td>0.000000</td>\n",
       "      <td>7.910400</td>\n",
       "    </tr>\n",
       "    <tr>\n",
       "      <th>50%</th>\n",
       "      <td>446.000000</td>\n",
       "      <td>0.000000</td>\n",
       "      <td>3.000000</td>\n",
       "      <td>28.000000</td>\n",
       "      <td>0.000000</td>\n",
       "      <td>0.000000</td>\n",
       "      <td>14.454200</td>\n",
       "    </tr>\n",
       "    <tr>\n",
       "      <th>75%</th>\n",
       "      <td>668.500000</td>\n",
       "      <td>1.000000</td>\n",
       "      <td>3.000000</td>\n",
       "      <td>38.000000</td>\n",
       "      <td>1.000000</td>\n",
       "      <td>0.000000</td>\n",
       "      <td>31.000000</td>\n",
       "    </tr>\n",
       "    <tr>\n",
       "      <th>max</th>\n",
       "      <td>891.000000</td>\n",
       "      <td>1.000000</td>\n",
       "      <td>3.000000</td>\n",
       "      <td>80.000000</td>\n",
       "      <td>8.000000</td>\n",
       "      <td>6.000000</td>\n",
       "      <td>512.329200</td>\n",
       "    </tr>\n",
       "  </tbody>\n",
       "</table>\n",
       "</div>"
      ],
      "text/plain": [
       "       PassengerId    Survived      Pclass         Age       SibSp       Parch        Fare\n",
       "count   891.000000  891.000000  891.000000  714.000000  891.000000  891.000000  891.000000\n",
       "mean    446.000000    0.383838    2.308642   29.699118    0.523008    0.381594   32.204208\n",
       "std     257.353842    0.486592    0.836071   14.526497    1.102743    0.806057   49.693429\n",
       "min       1.000000    0.000000    1.000000    0.420000    0.000000    0.000000    0.000000\n",
       "25%     223.500000    0.000000    2.000000   20.125000    0.000000    0.000000    7.910400\n",
       "50%     446.000000    0.000000    3.000000   28.000000    0.000000    0.000000   14.454200\n",
       "75%     668.500000    1.000000    3.000000   38.000000    1.000000    0.000000   31.000000\n",
       "max     891.000000    1.000000    3.000000   80.000000    8.000000    6.000000  512.329200"
      ]
     },
     "execution_count": 5,
     "metadata": {},
     "output_type": "execute_result"
    }
   ],
   "source": [
    "titanic.describe()"
   ]
  },
  {
   "cell_type": "code",
   "execution_count": 6,
   "metadata": {},
   "outputs": [
    {
     "name": "stdout",
     "output_type": "stream",
     "text": [
      "Percentage of missing records in Age 19.87 %\n",
      "Percentage of missing records in Cabin 77.1 %\n",
      "Percentage of missing records in Embarked 0.22 %\n"
     ]
    }
   ],
   "source": [
    "NA=[feature for feature in titanic.columns if titanic[feature].isnull().sum()>0]\n",
    "for feature in NA:\n",
    "    print(\"Percentage of missing records in\",feature,np.round((titanic[feature].isnull().sum()/len(titanic))*100,2),\"%\")\n"
   ]
  },
  {
   "cell_type": "code",
   "execution_count": 7,
   "metadata": {},
   "outputs": [
    {
     "data": {
      "image/png": "[encoded data removed]",
      "text/plain": [
       "<Figure size 432x288 with 1 Axes>"
      ]
     },
     "metadata": {
      "needs_background": "light"
     },
     "output_type": "display_data"
    },
    {
     "data": {
      "image/png": "[encoded data removed]",
      "text/plain": [
       "<Figure size 432x288 with 1 Axes>"
      ]
     },
     "metadata": {
      "needs_background": "light"
     },
     "output_type": "display_data"
    },
    {
     "data": {
      "image/png": "[encoded data removed]",
      "text/plain": [
       "<Figure size 432x288 with 1 Axes>"
      ]
     },
     "metadata": {
      "needs_background": "light"
     },
     "output_type": "display_data"
    }
   ],
   "source": [
    "# Filtering discrete numerical features\n",
    "numerical =[feature for feature in titanic.columns if titanic[feature].dtypes!='O' and feature not in ['Survived','PassengerId','Fare','Age']]\n",
    "for feature in numerical:\n",
    "    t_copy=titanic.copy()\n",
    "    sns.countplot(x=t_copy[feature],hue='Survived',data=t_copy)\n",
    "    plt.xlabel(feature)\n",
    "    plt.ylabel(\"Count\")\n",
    "    plt.show()"
   ]
  },
  {
   "cell_type": "markdown",
   "metadata": {},
   "source": [
    "Observation from above graph:\n",
    "- Survival of passenger is less dependent on passenger's class.\n",
    "- Passenger's who had 0 or 1 sibling have high chance of survival.\n",
    "- Passenger's who had travelled with their parents and childrens had high correlation with survival. As number of parents & chidrens increases the survival probability of that passenger is getting decreased."
   ]
  },
  {
   "cell_type": "code",
   "execution_count": 8,
   "metadata": {},
   "outputs": [
    {
     "data": {
      "image/png": "[encoded data removed]",
      "text/plain": [
       "<Figure size 432x288 with 1 Axes>"
      ]
     },
     "metadata": {
      "needs_background": "light"
     },
     "output_type": "display_data"
    },
    {
     "data": {
      "image/png": "[encoded data removed]",
      "text/plain": [
       "<Figure size 432x288 with 1 Axes>"
      ]
     },
     "metadata": {
      "needs_background": "light"
     },
     "output_type": "display_data"
    }
   ],
   "source": [
    "# Filtering continuous numerical features\n",
    "continuous =[feature for feature in titanic.columns if titanic[feature].dtypes!='O' and feature not in ['Pclass','SibSp','Parch','Survived','PassengerId']]\n",
    "for feature in continuous:\n",
    "    t_copy=titanic.copy()\n",
    "    sns.histplot(x=t_copy[feature],hue=t_copy['Survived'],bins=10,kde=True)\n",
    "    plt.xlabel(feature)\n",
    "    plt.ylabel(\"Count\")\n",
    "    plt.show()"
   ]
  },
  {
   "cell_type": "markdown",
   "metadata": {},
   "source": [
    "Observation from above graph:\n",
    "- Passenger's of age group 20 to 40 have high chane of survival.\n",
    "- Passenger's who had travelled in economy class have high change of survival.\n",
    "- Fare & Age data of passenger's are not following the Gaussian distribution."
   ]
  },
  {
   "cell_type": "code",
   "execution_count": 9,
   "metadata": {},
   "outputs": [
    {
     "data": {
      "image/png": "[encoded data removed]",
      "text/plain": [
       "<Figure size 432x288 with 1 Axes>"
      ]
     },
     "metadata": {
      "needs_background": "light"
     },
     "output_type": "display_data"
    },
    {
     "data": {
      "image/png": "[encoded data removed]",
      "text/plain": [
       "<Figure size 432x288 with 1 Axes>"
      ]
     },
     "metadata": {
      "needs_background": "light"
     },
     "output_type": "display_data"
    }
   ],
   "source": [
    "# Exloring categorical features\n",
    "categorical =[feature for feature in titanic.columns if titanic[feature].dtypes==\"O\" and not feature in ['Name','Ticket','Cabin']]\n",
    "for feature in categorical:\n",
    "    t_copy=titanic.copy()\n",
    "    sns.countplot(x=t_copy[feature],hue=t_copy['Survived'])\n",
    "    plt.xlabel(feature)\n",
    "    plt.ylabel(\"Count\")\n",
    "    plt.show()"
   ]
  },
  {
   "cell_type": "markdown",
   "metadata": {},
   "source": [
    "Observation from above graph:\n",
    "- Female passenger's have high chance of survival than male passenger.\n",
    "- Class \"S\" of Embarked has high chance of survival."
   ]
  },
  {
   "cell_type": "code",
   "execution_count": 10,
   "metadata": {},
   "outputs": [
    {
     "data": {
      "text/plain": [
       "<AxesSubplot:xlabel='Survived', ylabel='count'>"
      ]
     },
     "execution_count": 10,
     "metadata": {},
     "output_type": "execute_result"
    },
    {
     "data": {
      "image/png": "[encoded data removed]",
      "text/plain": [
       "<Figure size 432x288 with 1 Axes>"
      ]
     },
     "metadata": {
      "needs_background": "light"
     },
     "output_type": "display_data"
    }
   ],
   "source": [
    "sns.countplot(x = \"Survived\", data = titanic)"
   ]
  },
  {
   "cell_type": "code",
   "execution_count": 11,
   "metadata": {},
   "outputs": [
    {
     "data": {
      "text/html": [
       "<div>\n",
       "<style scoped>\n",
       "    .dataframe tbody tr th:only-of-type {\n",
       "        vertical-align: middle;\n",
       "    }\n",
       "\n",
       "    .dataframe tbody tr th {\n",
       "        vertical-align: top;\n",
       "    }\n",
       "\n",
       "    .dataframe thead th {\n",
       "        text-align: right;\n",
       "    }\n",
       "</style>\n",
       "<table border=\"1\" class=\"dataframe\">\n",
       "  <thead>\n",
       "    <tr style=\"text-align: right;\">\n",
       "      <th></th>\n",
       "      <th>PassengerId</th>\n",
       "      <th>Survived</th>\n",
       "      <th>Pclass</th>\n",
       "      <th>Age</th>\n",
       "      <th>SibSp</th>\n",
       "      <th>Parch</th>\n",
       "      <th>Fare</th>\n",
       "    </tr>\n",
       "  </thead>\n",
       "  <tbody>\n",
       "    <tr>\n",
       "      <th>PassengerId</th>\n",
       "      <td>1.000000</td>\n",
       "      <td>-0.005007</td>\n",
       "      <td>-0.035144</td>\n",
       "      <td>0.036847</td>\n",
       "      <td>-0.057527</td>\n",
       "      <td>-0.001652</td>\n",
       "      <td>0.012658</td>\n",
       "    </tr>\n",
       "    <tr>\n",
       "      <th>Survived</th>\n",
       "      <td>-0.005007</td>\n",
       "      <td>1.000000</td>\n",
       "      <td>-0.338481</td>\n",
       "      <td>-0.077221</td>\n",
       "      <td>-0.035322</td>\n",
       "      <td>0.081629</td>\n",
       "      <td>0.257307</td>\n",
       "    </tr>\n",
       "    <tr>\n",
       "      <th>Pclass</th>\n",
       "      <td>-0.035144</td>\n",
       "      <td>-0.338481</td>\n",
       "      <td>1.000000</td>\n",
       "      <td>-0.369226</td>\n",
       "      <td>0.083081</td>\n",
       "      <td>0.018443</td>\n",
       "      <td>-0.549500</td>\n",
       "    </tr>\n",
       "    <tr>\n",
       "      <th>Age</th>\n",
       "      <td>0.036847</td>\n",
       "      <td>-0.077221</td>\n",
       "      <td>-0.369226</td>\n",
       "      <td>1.000000</td>\n",
       "      <td>-0.308247</td>\n",
       "      <td>-0.189119</td>\n",
       "      <td>0.096067</td>\n",
       "    </tr>\n",
       "    <tr>\n",
       "      <th>SibSp</th>\n",
       "      <td>-0.057527</td>\n",
       "      <td>-0.035322</td>\n",
       "      <td>0.083081</td>\n",
       "      <td>-0.308247</td>\n",
       "      <td>1.000000</td>\n",
       "      <td>0.414838</td>\n",
       "      <td>0.159651</td>\n",
       "    </tr>\n",
       "    <tr>\n",
       "      <th>Parch</th>\n",
       "      <td>-0.001652</td>\n",
       "      <td>0.081629</td>\n",
       "      <td>0.018443</td>\n",
       "      <td>-0.189119</td>\n",
       "      <td>0.414838</td>\n",
       "      <td>1.000000</td>\n",
       "      <td>0.216225</td>\n",
       "    </tr>\n",
       "    <tr>\n",
       "      <th>Fare</th>\n",
       "      <td>0.012658</td>\n",
       "      <td>0.257307</td>\n",
       "      <td>-0.549500</td>\n",
       "      <td>0.096067</td>\n",
       "      <td>0.159651</td>\n",
       "      <td>0.216225</td>\n",
       "      <td>1.000000</td>\n",
       "    </tr>\n",
       "  </tbody>\n",
       "</table>\n",
       "</div>"
      ],
      "text/plain": [
       "             PassengerId  Survived    Pclass       Age     SibSp     Parch      Fare\n",
       "PassengerId     1.000000 -0.005007 -0.035144  0.036847 -0.057527 -0.001652  0.012658\n",
       "Survived       -0.005007  1.000000 -0.338481 -0.077221 -0.035322  0.081629  0.257307\n",
       "Pclass         -0.035144 -0.338481  1.000000 -0.369226  0.083081  0.018443 -0.549500\n",
       "Age             0.036847 -0.077221 -0.369226  1.000000 -0.308247 -0.189119  0.096067\n",
       "SibSp          -0.057527 -0.035322  0.083081 -0.308247  1.000000  0.414838  0.159651\n",
       "Parch          -0.001652  0.081629  0.018443 -0.189119  0.414838  1.000000  0.216225\n",
       "Fare            0.012658  0.257307 -0.549500  0.096067  0.159651  0.216225  1.000000"
      ]
     },
     "execution_count": 11,
     "metadata": {},
     "output_type": "execute_result"
    }
   ],
   "source": [
    "titanic.corr()"
   ]
  },
  {
   "cell_type": "code",
   "execution_count": 12,
   "metadata": {},
   "outputs": [
    {
     "data": {
      "text/plain": [
       "<AxesSubplot:>"
      ]
     },
     "execution_count": 12,
     "metadata": {},
     "output_type": "execute_result"
    },
    {
     "data": {
      "image/png": "[encoded data removed]",
      "text/plain": [
       "<Figure size 432x288 with 2 Axes>"
      ]
     },
     "metadata": {
      "needs_background": "light"
     },
     "output_type": "display_data"
    }
   ],
   "source": [
    "sns.heatmap(titanic.corr())"
   ]
  },
  {
   "cell_type": "code",
   "execution_count": 13,
   "metadata": {},
   "outputs": [
    {
     "data": {
      "text/plain": [
       "<AxesSubplot:>"
      ]
     },
     "execution_count": 13,
     "metadata": {},
     "output_type": "execute_result"
    },
    {
     "data": {
      "image/png": "[encoded data removed]",
      "text/plain": [
       "<Figure size 432x288 with 2 Axes>"
      ]
     },
     "metadata": {
      "needs_background": "light"
     },
     "output_type": "display_data"
    }
   ],
   "source": [
    "sns.heatmap(titanic.isnull(), yticklabels = False)"
   ]
  },
  {
   "cell_type": "code",
   "execution_count": 14,
   "metadata": {},
   "outputs": [
    {
     "data": {
      "image/png": "[encoded data removed]",
      "text/plain": [
       "<Figure size 432x288 with 1 Axes>"
      ]
     },
     "metadata": {
      "needs_background": "light"
     },
     "output_type": "display_data"
    },
    {
     "data": {
      "image/png": "[encoded data removed]",
      "text/plain": [
       "<Figure size 432x288 with 1 Axes>"
      ]
     },
     "metadata": {
      "needs_background": "light"
     },
     "output_type": "display_data"
    }
   ],
   "source": [
    "plt.subplot(1,2,1)\n",
    "for feature in continuous:\n",
    "    t_copy=titanic.copy()\n",
    "    #plt.figure(figsize=(5,10))\n",
    "    sns.boxplot(x = \"Pclass\", y = feature, data = titanic)\n",
    "    plt.show()"
   ]
  },
  {
   "cell_type": "markdown",
   "metadata": {},
   "source": [
    "Fare & Age variables contains outliers. Hence we need to normalize the dataset."
   ]
  },
  {
   "cell_type": "markdown",
   "metadata": {},
   "source": [
    "### 3. Data Preprocessing"
   ]
  },
  {
   "cell_type": "code",
   "execution_count": 15,
   "metadata": {},
   "outputs": [],
   "source": [
    "for feature in NA:\n",
    "    titanic[feature+'null']=np.where(titanic[feature].isnull(),1,0)"
   ]
  },
  {
   "cell_type": "code",
   "execution_count": 16,
   "metadata": {},
   "outputs": [],
   "source": [
    "# Imputting missing values of Age with median since the data is skewed.\n",
    "\n",
    "titanic['Age']=np.where(titanic['Age'].isnull(),titanic['Age'].median(),titanic['Age'])"
   ]
  },
  {
   "cell_type": "code",
   "execution_count": 17,
   "metadata": {},
   "outputs": [],
   "source": [
    "# Imputting missing values of Cabin with General class.\n",
    "\n",
    "titanic['Cabin']=np.where(titanic['Cabin'].isnull(),'General',titanic['Cabin'])"
   ]
  },
  {
   "cell_type": "code",
   "execution_count": 18,
   "metadata": {},
   "outputs": [],
   "source": [
    "# Imputting missing values of Embarked with mode.\n",
    "\n",
    "titanic['Embarked']=np.where(titanic['Embarked'].isnull(),titanic['Embarked'].mode(),titanic['Embarked'])"
   ]
  },
  {
   "cell_type": "code",
   "execution_count": 19,
   "metadata": {},
   "outputs": [
    {
     "data": {
      "text/html": [
       "<div>\n",
       "<style scoped>\n",
       "    .dataframe tbody tr th:only-of-type {\n",
       "        vertical-align: middle;\n",
       "    }\n",
       "\n",
       "    .dataframe tbody tr th {\n",
       "        vertical-align: top;\n",
       "    }\n",
       "\n",
       "    .dataframe thead th {\n",
       "        text-align: right;\n",
       "    }\n",
       "</style>\n",
       "<table border=\"1\" class=\"dataframe\">\n",
       "  <thead>\n",
       "    <tr style=\"text-align: right;\">\n",
       "      <th></th>\n",
       "      <th>PassengerId</th>\n",
       "      <th>Survived</th>\n",
       "      <th>Pclass</th>\n",
       "      <th>Name</th>\n",
       "      <th>Sex</th>\n",
       "      <th>Age</th>\n",
       "      <th>SibSp</th>\n",
       "      <th>Parch</th>\n",
       "      <th>Ticket</th>\n",
       "      <th>Fare</th>\n",
       "      <th>Cabin</th>\n",
       "      <th>Embarked</th>\n",
       "      <th>Agenull</th>\n",
       "      <th>Cabinnull</th>\n",
       "      <th>Embarkednull</th>\n",
       "    </tr>\n",
       "  </thead>\n",
       "  <tbody>\n",
       "    <tr>\n",
       "      <th>0</th>\n",
       "      <td>1</td>\n",
       "      <td>0</td>\n",
       "      <td>3</td>\n",
       "      <td>Braund, Mr. Owen Harris</td>\n",
       "      <td>male</td>\n",
       "      <td>22.0</td>\n",
       "      <td>1</td>\n",
       "      <td>0</td>\n",
       "      <td>A/5 21171</td>\n",
       "      <td>7.2500</td>\n",
       "      <td>General</td>\n",
       "      <td>S</td>\n",
       "      <td>0</td>\n",
       "      <td>1</td>\n",
       "      <td>0</td>\n",
       "    </tr>\n",
       "    <tr>\n",
       "      <th>1</th>\n",
       "      <td>2</td>\n",
       "      <td>1</td>\n",
       "      <td>1</td>\n",
       "      <td>Cumings, Mrs. John Bradley (Florence Briggs Th...</td>\n",
       "      <td>female</td>\n",
       "      <td>38.0</td>\n",
       "      <td>1</td>\n",
       "      <td>0</td>\n",
       "      <td>PC 17599</td>\n",
       "      <td>71.2833</td>\n",
       "      <td>C85</td>\n",
       "      <td>C</td>\n",
       "      <td>0</td>\n",
       "      <td>0</td>\n",
       "      <td>0</td>\n",
       "    </tr>\n",
       "    <tr>\n",
       "      <th>2</th>\n",
       "      <td>3</td>\n",
       "      <td>1</td>\n",
       "      <td>3</td>\n",
       "      <td>Heikkinen, Miss. Laina</td>\n",
       "      <td>female</td>\n",
       "      <td>26.0</td>\n",
       "      <td>0</td>\n",
       "      <td>0</td>\n",
       "      <td>STON/O2. 3101282</td>\n",
       "      <td>7.9250</td>\n",
       "      <td>General</td>\n",
       "      <td>S</td>\n",
       "      <td>0</td>\n",
       "      <td>1</td>\n",
       "      <td>0</td>\n",
       "    </tr>\n",
       "    <tr>\n",
       "      <th>3</th>\n",
       "      <td>4</td>\n",
       "      <td>1</td>\n",
       "      <td>1</td>\n",
       "      <td>Futrelle, Mrs. Jacques Heath (Lily May Peel)</td>\n",
       "      <td>female</td>\n",
       "      <td>35.0</td>\n",
       "      <td>1</td>\n",
       "      <td>0</td>\n",
       "      <td>113803</td>\n",
       "      <td>53.1000</td>\n",
       "      <td>C123</td>\n",
       "      <td>S</td>\n",
       "      <td>0</td>\n",
       "      <td>0</td>\n",
       "      <td>0</td>\n",
       "    </tr>\n",
       "    <tr>\n",
       "      <th>4</th>\n",
       "      <td>5</td>\n",
       "      <td>0</td>\n",
       "      <td>3</td>\n",
       "      <td>Allen, Mr. William Henry</td>\n",
       "      <td>male</td>\n",
       "      <td>35.0</td>\n",
       "      <td>0</td>\n",
       "      <td>0</td>\n",
       "      <td>373450</td>\n",
       "      <td>8.0500</td>\n",
       "      <td>General</td>\n",
       "      <td>S</td>\n",
       "      <td>0</td>\n",
       "      <td>1</td>\n",
       "      <td>0</td>\n",
       "    </tr>\n",
       "  </tbody>\n",
       "</table>\n",
       "</div>"
      ],
      "text/plain": [
       "   PassengerId  Survived  Pclass                                               Name     Sex   Age  SibSp  Parch            Ticket     Fare    Cabin Embarked  Agenull  Cabinnull  Embarkednull\n",
       "0            1         0       3                            Braund, Mr. Owen Harris    male  22.0      1      0         A/5 21171   7.2500  General        S        0          1             0\n",
       "1            2         1       1  Cumings, Mrs. John Bradley (Florence Briggs Th...  female  38.0      1      0          PC 17599  71.2833      C85        C        0          0             0\n",
       "2            3         1       3                             Heikkinen, Miss. Laina  female  26.0      0      0  STON/O2. 3101282   7.9250  General        S        0          1             0\n",
       "3            4         1       1       Futrelle, Mrs. Jacques Heath (Lily May Peel)  female  35.0      1      0            113803  53.1000     C123        S        0          0             0\n",
       "4            5         0       3                           Allen, Mr. William Henry    male  35.0      0      0            373450   8.0500  General        S        0          1             0"
      ]
     },
     "execution_count": 19,
     "metadata": {},
     "output_type": "execute_result"
    }
   ],
   "source": [
    "titanic.head()"
   ]
  },
  {
   "cell_type": "code",
   "execution_count": 20,
   "metadata": {},
   "outputs": [
    {
     "data": {
      "text/plain": [
       "PassengerId     0\n",
       "Survived        0\n",
       "Pclass          0\n",
       "Name            0\n",
       "Sex             0\n",
       "Age             0\n",
       "SibSp           0\n",
       "Parch           0\n",
       "Ticket          0\n",
       "Fare            0\n",
       "Cabin           0\n",
       "Embarked        0\n",
       "Agenull         0\n",
       "Cabinnull       0\n",
       "Embarkednull    0\n",
       "dtype: int64"
      ]
     },
     "execution_count": 20,
     "metadata": {},
     "output_type": "execute_result"
    }
   ],
   "source": [
    "titanic.isnull().sum()"
   ]
  },
  {
   "cell_type": "code",
   "execution_count": 21,
   "metadata": {},
   "outputs": [],
   "source": [
    "#Convert Categorical Variables into Numerical Variables (Dummy)\n",
    "cat=['Sex','Embarked','Pclass']\n",
    "for feature in cat:\n",
    "    x=pd.get_dummies(titanic[feature],drop_first=True)\n",
    "    titanic=pd.concat([titanic,x],axis=1)\n"
   ]
  },
  {
   "cell_type": "code",
   "execution_count": 22,
   "metadata": {},
   "outputs": [
    {
     "data": {
      "text/html": [
       "<div>\n",
       "<style scoped>\n",
       "    .dataframe tbody tr th:only-of-type {\n",
       "        vertical-align: middle;\n",
       "    }\n",
       "\n",
       "    .dataframe tbody tr th {\n",
       "        vertical-align: top;\n",
       "    }\n",
       "\n",
       "    .dataframe thead th {\n",
       "        text-align: right;\n",
       "    }\n",
       "</style>\n",
       "<table border=\"1\" class=\"dataframe\">\n",
       "  <thead>\n",
       "    <tr style=\"text-align: right;\">\n",
       "      <th></th>\n",
       "      <th>Survived</th>\n",
       "      <th>Age</th>\n",
       "      <th>SibSp</th>\n",
       "      <th>Parch</th>\n",
       "      <th>Fare</th>\n",
       "      <th>male</th>\n",
       "      <th>Q</th>\n",
       "      <th>S</th>\n",
       "      <th>2</th>\n",
       "      <th>3</th>\n",
       "    </tr>\n",
       "  </thead>\n",
       "  <tbody>\n",
       "    <tr>\n",
       "      <th>0</th>\n",
       "      <td>0</td>\n",
       "      <td>22.0</td>\n",
       "      <td>1</td>\n",
       "      <td>0</td>\n",
       "      <td>7.2500</td>\n",
       "      <td>1</td>\n",
       "      <td>0</td>\n",
       "      <td>1</td>\n",
       "      <td>0</td>\n",
       "      <td>1</td>\n",
       "    </tr>\n",
       "    <tr>\n",
       "      <th>1</th>\n",
       "      <td>1</td>\n",
       "      <td>38.0</td>\n",
       "      <td>1</td>\n",
       "      <td>0</td>\n",
       "      <td>71.2833</td>\n",
       "      <td>0</td>\n",
       "      <td>0</td>\n",
       "      <td>0</td>\n",
       "      <td>0</td>\n",
       "      <td>0</td>\n",
       "    </tr>\n",
       "    <tr>\n",
       "      <th>2</th>\n",
       "      <td>1</td>\n",
       "      <td>26.0</td>\n",
       "      <td>0</td>\n",
       "      <td>0</td>\n",
       "      <td>7.9250</td>\n",
       "      <td>0</td>\n",
       "      <td>0</td>\n",
       "      <td>1</td>\n",
       "      <td>0</td>\n",
       "      <td>1</td>\n",
       "    </tr>\n",
       "    <tr>\n",
       "      <th>3</th>\n",
       "      <td>1</td>\n",
       "      <td>35.0</td>\n",
       "      <td>1</td>\n",
       "      <td>0</td>\n",
       "      <td>53.1000</td>\n",
       "      <td>0</td>\n",
       "      <td>0</td>\n",
       "      <td>1</td>\n",
       "      <td>0</td>\n",
       "      <td>0</td>\n",
       "    </tr>\n",
       "    <tr>\n",
       "      <th>4</th>\n",
       "      <td>0</td>\n",
       "      <td>35.0</td>\n",
       "      <td>0</td>\n",
       "      <td>0</td>\n",
       "      <td>8.0500</td>\n",
       "      <td>1</td>\n",
       "      <td>0</td>\n",
       "      <td>1</td>\n",
       "      <td>0</td>\n",
       "      <td>1</td>\n",
       "    </tr>\n",
       "  </tbody>\n",
       "</table>\n",
       "</div>"
      ],
      "text/plain": [
       "   Survived   Age  SibSp  Parch     Fare  male  Q  S  2  3\n",
       "0         0  22.0      1      0   7.2500     1  0  1  0  1\n",
       "1         1  38.0      1      0  71.2833     0  0  0  0  0\n",
       "2         1  26.0      0      0   7.9250     0  0  1  0  1\n",
       "3         1  35.0      1      0  53.1000     0  0  1  0  0\n",
       "4         0  35.0      0      0   8.0500     1  0  1  0  1"
      ]
     },
     "execution_count": 22,
     "metadata": {},
     "output_type": "execute_result"
    }
   ],
   "source": [
    "titanic_data=titanic.drop(columns=['PassengerId','Pclass','Name','Sex','Ticket','Cabin','Embarked','Agenull','Cabinnull','Embarkednull'])\n",
    "titanic_data.head()"
   ]
  },
  {
   "cell_type": "code",
   "execution_count": 23,
   "metadata": {},
   "outputs": [
    {
     "data": {
      "text/plain": [
       "(891, 10)"
      ]
     },
     "execution_count": 23,
     "metadata": {},
     "output_type": "execute_result"
    }
   ],
   "source": [
    "titanic_data.shape"
   ]
  },
  {
   "cell_type": "code",
   "execution_count": 24,
   "metadata": {},
   "outputs": [
    {
     "data": {
      "text/plain": [
       "<AxesSubplot:>"
      ]
     },
     "execution_count": 24,
     "metadata": {},
     "output_type": "execute_result"
    },
    {
     "data": {
      "image/png": "[encoded data removed]",
      "text/plain": [
       "<Figure size 432x288 with 2 Axes>"
      ]
     },
     "metadata": {
      "needs_background": "light"
     },
     "output_type": "display_data"
    }
   ],
   "source": [
    "sns.heatmap(titanic_data.corr())"
   ]
  },
  {
   "cell_type": "code",
   "execution_count": 25,
   "metadata": {},
   "outputs": [
    {
     "data": {
      "text/html": [
       "<div>\n",
       "<style scoped>\n",
       "    .dataframe tbody tr th:only-of-type {\n",
       "        vertical-align: middle;\n",
       "    }\n",
       "\n",
       "    .dataframe tbody tr th {\n",
       "        vertical-align: top;\n",
       "    }\n",
       "\n",
       "    .dataframe thead th {\n",
       "        text-align: right;\n",
       "    }\n",
       "</style>\n",
       "<table border=\"1\" class=\"dataframe\">\n",
       "  <thead>\n",
       "    <tr style=\"text-align: right;\">\n",
       "      <th></th>\n",
       "      <th>Survived</th>\n",
       "      <th>Age</th>\n",
       "      <th>SibSp</th>\n",
       "      <th>Parch</th>\n",
       "      <th>Fare</th>\n",
       "      <th>male</th>\n",
       "      <th>Q</th>\n",
       "      <th>S</th>\n",
       "      <th>2</th>\n",
       "      <th>3</th>\n",
       "    </tr>\n",
       "  </thead>\n",
       "  <tbody>\n",
       "    <tr>\n",
       "      <th>Survived</th>\n",
       "      <td>1.000000</td>\n",
       "      <td>-0.064910</td>\n",
       "      <td>-0.035322</td>\n",
       "      <td>0.081629</td>\n",
       "      <td>0.257307</td>\n",
       "      <td>-0.543351</td>\n",
       "      <td>0.003650</td>\n",
       "      <td>-0.149683</td>\n",
       "      <td>0.093349</td>\n",
       "      <td>-0.322308</td>\n",
       "    </tr>\n",
       "    <tr>\n",
       "      <th>Age</th>\n",
       "      <td>-0.064910</td>\n",
       "      <td>1.000000</td>\n",
       "      <td>-0.233296</td>\n",
       "      <td>-0.172482</td>\n",
       "      <td>0.096688</td>\n",
       "      <td>0.081163</td>\n",
       "      <td>-0.031415</td>\n",
       "      <td>-0.006729</td>\n",
       "      <td>0.015831</td>\n",
       "      <td>-0.291955</td>\n",
       "    </tr>\n",
       "    <tr>\n",
       "      <th>SibSp</th>\n",
       "      <td>-0.035322</td>\n",
       "      <td>-0.233296</td>\n",
       "      <td>1.000000</td>\n",
       "      <td>0.414838</td>\n",
       "      <td>0.159651</td>\n",
       "      <td>-0.114631</td>\n",
       "      <td>-0.026354</td>\n",
       "      <td>0.068734</td>\n",
       "      <td>-0.055932</td>\n",
       "      <td>0.092548</td>\n",
       "    </tr>\n",
       "    <tr>\n",
       "      <th>Parch</th>\n",
       "      <td>0.081629</td>\n",
       "      <td>-0.172482</td>\n",
       "      <td>0.414838</td>\n",
       "      <td>1.000000</td>\n",
       "      <td>0.216225</td>\n",
       "      <td>-0.245489</td>\n",
       "      <td>-0.081228</td>\n",
       "      <td>0.060814</td>\n",
       "      <td>-0.000734</td>\n",
       "      <td>0.015790</td>\n",
       "    </tr>\n",
       "    <tr>\n",
       "      <th>Fare</th>\n",
       "      <td>0.257307</td>\n",
       "      <td>0.096688</td>\n",
       "      <td>0.159651</td>\n",
       "      <td>0.216225</td>\n",
       "      <td>1.000000</td>\n",
       "      <td>-0.182333</td>\n",
       "      <td>-0.117216</td>\n",
       "      <td>-0.162184</td>\n",
       "      <td>-0.118557</td>\n",
       "      <td>-0.413333</td>\n",
       "    </tr>\n",
       "    <tr>\n",
       "      <th>male</th>\n",
       "      <td>-0.543351</td>\n",
       "      <td>0.081163</td>\n",
       "      <td>-0.114631</td>\n",
       "      <td>-0.245489</td>\n",
       "      <td>-0.182333</td>\n",
       "      <td>1.000000</td>\n",
       "      <td>-0.074115</td>\n",
       "      <td>0.119224</td>\n",
       "      <td>-0.064746</td>\n",
       "      <td>0.137143</td>\n",
       "    </tr>\n",
       "    <tr>\n",
       "      <th>Q</th>\n",
       "      <td>0.003650</td>\n",
       "      <td>-0.031415</td>\n",
       "      <td>-0.026354</td>\n",
       "      <td>-0.081228</td>\n",
       "      <td>-0.117216</td>\n",
       "      <td>-0.074115</td>\n",
       "      <td>1.000000</td>\n",
       "      <td>-0.499421</td>\n",
       "      <td>-0.127301</td>\n",
       "      <td>0.237449</td>\n",
       "    </tr>\n",
       "    <tr>\n",
       "      <th>S</th>\n",
       "      <td>-0.149683</td>\n",
       "      <td>-0.006729</td>\n",
       "      <td>0.068734</td>\n",
       "      <td>0.060814</td>\n",
       "      <td>-0.162184</td>\n",
       "      <td>0.119224</td>\n",
       "      <td>-0.499421</td>\n",
       "      <td>1.000000</td>\n",
       "      <td>0.189980</td>\n",
       "      <td>-0.015104</td>\n",
       "    </tr>\n",
       "    <tr>\n",
       "      <th>2</th>\n",
       "      <td>0.093349</td>\n",
       "      <td>0.015831</td>\n",
       "      <td>-0.055932</td>\n",
       "      <td>-0.000734</td>\n",
       "      <td>-0.118557</td>\n",
       "      <td>-0.064746</td>\n",
       "      <td>-0.127301</td>\n",
       "      <td>0.189980</td>\n",
       "      <td>1.000000</td>\n",
       "      <td>-0.565210</td>\n",
       "    </tr>\n",
       "    <tr>\n",
       "      <th>3</th>\n",
       "      <td>-0.322308</td>\n",
       "      <td>-0.291955</td>\n",
       "      <td>0.092548</td>\n",
       "      <td>0.015790</td>\n",
       "      <td>-0.413333</td>\n",
       "      <td>0.137143</td>\n",
       "      <td>0.237449</td>\n",
       "      <td>-0.015104</td>\n",
       "      <td>-0.565210</td>\n",
       "      <td>1.000000</td>\n",
       "    </tr>\n",
       "  </tbody>\n",
       "</table>\n",
       "</div>"
      ],
      "text/plain": [
       "          Survived       Age     SibSp     Parch      Fare      male         Q         S         2         3\n",
       "Survived  1.000000 -0.064910 -0.035322  0.081629  0.257307 -0.543351  0.003650 -0.149683  0.093349 -0.322308\n",
       "Age      -0.064910  1.000000 -0.233296 -0.172482  0.096688  0.081163 -0.031415 -0.006729  0.015831 -0.291955\n",
       "SibSp    -0.035322 -0.233296  1.000000  0.414838  0.159651 -0.114631 -0.026354  0.068734 -0.055932  0.092548\n",
       "Parch     0.081629 -0.172482  0.414838  1.000000  0.216225 -0.245489 -0.081228  0.060814 -0.000734  0.015790\n",
       "Fare      0.257307  0.096688  0.159651  0.216225  1.000000 -0.182333 -0.117216 -0.162184 -0.118557 -0.413333\n",
       "male     -0.543351  0.081163 -0.114631 -0.245489 -0.182333  1.000000 -0.074115  0.119224 -0.064746  0.137143\n",
       "Q         0.003650 -0.031415 -0.026354 -0.081228 -0.117216 -0.074115  1.000000 -0.499421 -0.127301  0.237449\n",
       "S        -0.149683 -0.006729  0.068734  0.060814 -0.162184  0.119224 -0.499421  1.000000  0.189980 -0.015104\n",
       "2         0.093349  0.015831 -0.055932 -0.000734 -0.118557 -0.064746 -0.127301  0.189980  1.000000 -0.565210\n",
       "3        -0.322308 -0.291955  0.092548  0.015790 -0.413333  0.137143  0.237449 -0.015104 -0.565210  1.000000"
      ]
     },
     "execution_count": 25,
     "metadata": {},
     "output_type": "execute_result"
    }
   ],
   "source": [
    "titanic_data.corr()"
   ]
  },
  {
   "cell_type": "code",
   "execution_count": 26,
   "metadata": {},
   "outputs": [
    {
     "data": {
      "text/plain": [
       "Survived      int64\n",
       "Age         float64\n",
       "SibSp         int64\n",
       "Parch         int64\n",
       "Fare        float64\n",
       "male          uint8\n",
       "Q             uint8\n",
       "S             uint8\n",
       "2             uint8\n",
       "3             uint8\n",
       "dtype: object"
      ]
     },
     "execution_count": 26,
     "metadata": {},
     "output_type": "execute_result"
    }
   ],
   "source": [
    "titanic_data.dtypes"
   ]
  },
  {
   "cell_type": "code",
   "execution_count": 27,
   "metadata": {},
   "outputs": [],
   "source": [
    "dt=[feature for feature in titanic_data.columns if titanic_data[feature].dtypes=='uint8']\n",
    "for feature in dt:\n",
    "    titanic[feature].astype('int64')"
   ]
  },
  {
   "cell_type": "markdown",
   "metadata": {},
   "source": [
    "### 4. Applying Logistic Regression"
   ]
  },
  {
   "cell_type": "code",
   "execution_count": 28,
   "metadata": {},
   "outputs": [],
   "source": [
    "X = titanic_data.drop(\"Survived\",axis=1)\n",
    "y = titanic[\"Survived\"]"
   ]
  },
  {
   "cell_type": "code",
   "execution_count": 29,
   "metadata": {},
   "outputs": [],
   "source": [
    "#from sklearn import train_test_split\n",
    "from sklearn.model_selection import train_test_split\n",
    "X_train, X_test, y_train, y_test = train_test_split(X,y, test_size =0.25, random_state = 1)"
   ]
  },
  {
   "cell_type": "code",
   "execution_count": 30,
   "metadata": {},
   "outputs": [
    {
     "name": "stdout",
     "output_type": "stream",
     "text": [
      "X_train Shape (668, 9)\n",
      "X_test Shape (223, 9)\n",
      "y_train Shape (668,)\n",
      "y_test Shape (223,)\n"
     ]
    }
   ],
   "source": [
    "print(\"X_train Shape\",X_train.shape)\n",
    "print(\"X_test Shape\",X_test.shape)\n",
    "print(\"y_train Shape\",y_train.shape)\n",
    "print(\"y_test Shape\",y_test.shape)"
   ]
  },
  {
   "cell_type": "code",
   "execution_count": 31,
   "metadata": {},
   "outputs": [
    {
     "name": "stderr",
     "output_type": "stream",
     "text": [
      "C:\\Users\\chmr2001\\Anaconda3\\lib\\site-packages\\sklearn\\utils\\validation.py:1858: FutureWarning: Feature names only support names that are all strings. Got feature names with dtypes: ['int', 'str']. An error will be raised in 1.2.\n",
      "  warnings.warn(\n",
      "C:\\Users\\chmr2001\\Anaconda3\\lib\\site-packages\\sklearn\\utils\\validation.py:1858: FutureWarning: Feature names only support names that are all strings. Got feature names with dtypes: ['int', 'str']. An error will be raised in 1.2.\n",
      "  warnings.warn(\n",
      "C:\\Users\\chmr2001\\Anaconda3\\lib\\site-packages\\sklearn\\utils\\validation.py:1858: FutureWarning: Feature names only support names that are all strings. Got feature names with dtypes: ['int', 'str']. An error will be raised in 1.2.\n",
      "  warnings.warn(\n"
     ]
    }
   ],
   "source": [
    "#Normalizing the independent features\n",
    "from sklearn.preprocessing import MinMaxScaler\n",
    "scaler =MinMaxScaler()\n",
    "X_train_scaled =scaler.fit_transform(X_train)\n",
    "X_test_scaled =scaler.transform(X_test)"
   ]
  },
  {
   "cell_type": "code",
   "execution_count": 32,
   "metadata": {},
   "outputs": [],
   "source": [
    "from sklearn.linear_model import LogisticRegression\n",
    "logmodel = LogisticRegression( solver='sag',max_iter=150,penalty='l2')\n",
    "logmodel.fit(X_train_scaled,y_train)\n",
    "predictions = logmodel.predict(X_test_scaled)"
   ]
  },
  {
   "cell_type": "markdown",
   "metadata": {},
   "source": [
    "### 5. Evaluating Results"
   ]
  },
  {
   "cell_type": "code",
   "execution_count": 33,
   "metadata": {},
   "outputs": [
    {
     "data": {
      "text/plain": [
       "array([[110,  18],\n",
       "       [ 28,  67]], dtype=int64)"
      ]
     },
     "execution_count": 33,
     "metadata": {},
     "output_type": "execute_result"
    }
   ],
   "source": [
    "from sklearn.metrics import confusion_matrix\n",
    "confusion_matrix(y_test, predictions)"
   ]
  },
  {
   "cell_type": "code",
   "execution_count": 34,
   "metadata": {},
   "outputs": [
    {
     "data": {
      "text/plain": [
       "0.7937219730941704"
      ]
     },
     "execution_count": 34,
     "metadata": {},
     "output_type": "execute_result"
    }
   ],
   "source": [
    "from sklearn.metrics import accuracy_score\n",
    "accuracy_score(y_test, predictions)"
   ]
  },
  {
   "cell_type": "code",
   "execution_count": 35,
   "metadata": {},
   "outputs": [
    {
     "name": "stdout",
     "output_type": "stream",
     "text": [
      "              precision    recall  f1-score   support\n",
      "\n",
      "           0       0.80      0.86      0.83       128\n",
      "           1       0.79      0.71      0.74        95\n",
      "\n",
      "    accuracy                           0.79       223\n",
      "   macro avg       0.79      0.78      0.79       223\n",
      "weighted avg       0.79      0.79      0.79       223\n",
      "\n"
     ]
    }
   ],
   "source": [
    "from sklearn.metrics import classification_report\n",
    "print(classification_report(y_test, predictions))"
   ]
  },
  {
   "cell_type": "markdown",
   "metadata": {},
   "source": [
    "### Finding:\n",
    "- Accuracy of the model is 79.4%\n",
    "- The proportion of true positive predictions out of all positive predictions is around 79%. \n",
    "- The proportion of true positive predictions out of all actual positive instances is around 79%.\n",
    "- The harmonic mean of precision and recall is 0.79. This is also called F1-Score."
   ]
  },
  {
   "cell_type": "markdown",
   "metadata": {},
   "source": [
    "### Advanced"
   ]
  },
  {
   "cell_type": "code",
   "execution_count": 36,
   "metadata": {
    "scrolled": false
   },
   "outputs": [
    {
     "name": "stderr",
     "output_type": "stream",
     "text": [
      "C:\\Users\\chmr2001\\Anaconda3\\lib\\site-packages\\sklearn\\utils\\validation.py:1858: FutureWarning: Feature names only support names that are all strings. Got feature names with dtypes: ['int', 'str']. An error will be raised in 1.2.\n",
      "  warnings.warn(\n"
     ]
    },
    {
     "data": {
      "text/plain": [
       "array([[1.00000000e+00, 1.07057174e-39],\n",
       "       [1.00000000e+00, 6.26118894e-26],\n",
       "       [1.00000000e+00, 8.18013861e-14],\n",
       "       [1.00000000e+00, 1.23640925e-24],\n",
       "       [9.71092069e-01, 2.89079314e-02],\n",
       "       [1.00000000e+00, 1.60664308e-19],\n",
       "       [1.00000000e+00, 2.13285797e-30],\n",
       "       [1.00000000e+00, 2.31387667e-24],\n",
       "       [1.00000000e+00, 1.81304849e-14],\n",
       "       [1.00000000e+00, 3.89426183e-24],\n",
       "       [1.00000000e+00, 3.51652519e-23],\n",
       "       [1.00000000e+00, 5.07602352e-23],\n",
       "       [1.00000000e+00, 1.92677411e-42],\n",
       "       [1.00000000e+00, 1.34472726e-24],\n",
       "       [1.00000000e+00, 1.08392118e-24],\n",
       "       [1.00000000e+00, 2.39509077e-22],\n",
       "       [9.99999964e-01, 3.57711709e-08],\n",
       "       [1.00000000e+00, 1.21627293e-21],\n",
       "       [1.00000000e+00, 2.91589365e-33],\n",
       "       [1.00000000e+00, 4.44326358e-20],\n",
       "       [1.00000000e+00, 1.36465186e-29],\n",
       "       [1.00000000e+00, 1.86621419e-23],\n",
       "       [1.00000000e+00, 5.81809319e-14],\n",
       "       [9.99998346e-01, 1.65399708e-06],\n",
       "       [1.00000000e+00, 7.62314655e-12],\n",
       "       [1.00000000e+00, 6.70265876e-25],\n",
       "       [0.00000000e+00, 1.00000000e+00],\n",
       "       [1.00000000e+00, 2.34111712e-36],\n",
       "       [1.00000000e+00, 3.91563304e-23],\n",
       "       [4.07215310e-04, 9.99592785e-01],\n",
       "       [1.00000000e+00, 5.67279916e-19],\n",
       "       [1.00000000e+00, 9.16286980e-22],\n",
       "       [1.00000000e+00, 6.75562037e-32],\n",
       "       [1.00000000e+00, 1.08179718e-22],\n",
       "       [1.00000000e+00, 3.21617209e-37],\n",
       "       [9.86563328e-01, 1.34366723e-02],\n",
       "       [1.00000000e+00, 1.02026380e-29],\n",
       "       [1.00000000e+00, 5.13579376e-26],\n",
       "       [1.00000000e+00, 1.16078564e-15],\n",
       "       [1.00000000e+00, 1.32557727e-18],\n",
       "       [1.00000000e+00, 6.15230680e-24],\n",
       "       [1.00000000e+00, 2.16276010e-23],\n",
       "       [1.00000000e+00, 2.10055500e-35],\n",
       "       [1.00000000e+00, 4.25098910e-38],\n",
       "       [1.78132269e-05, 9.99982187e-01],\n",
       "       [1.00000000e+00, 1.80502707e-32],\n",
       "       [9.99999816e-01, 1.83749960e-07],\n",
       "       [1.00000000e+00, 1.11504439e-34],\n",
       "       [0.00000000e+00, 1.00000000e+00],\n",
       "       [1.00000000e+00, 5.72345662e-14],\n",
       "       [1.00000000e+00, 4.92884923e-24],\n",
       "       [1.00000000e+00, 1.76529828e-17],\n",
       "       [1.00000000e+00, 1.01906403e-16],\n",
       "       [1.00000000e+00, 2.67883259e-32],\n",
       "       [1.00000000e+00, 1.30865450e-26],\n",
       "       [1.00000000e+00, 1.31746352e-20],\n",
       "       [1.00000000e+00, 6.97180226e-26],\n",
       "       [1.00000000e+00, 9.69644030e-52],\n",
       "       [1.00000000e+00, 5.72898029e-33],\n",
       "       [1.00000000e+00, 2.05700102e-17],\n",
       "       [1.00000000e+00, 2.15441241e-20],\n",
       "       [1.00000000e+00, 9.12034978e-26],\n",
       "       [1.00000000e+00, 1.30437053e-21],\n",
       "       [1.00000000e+00, 6.29601969e-38],\n",
       "       [1.00000000e+00, 4.21344595e-18],\n",
       "       [1.00000000e+00, 2.34644989e-24],\n",
       "       [1.00000000e+00, 9.91169351e-18],\n",
       "       [1.00000000e+00, 3.14832386e-22],\n",
       "       [4.35965642e-01, 5.64034358e-01],\n",
       "       [1.00000000e+00, 6.08812380e-37],\n",
       "       [1.00000000e+00, 4.83854639e-21],\n",
       "       [1.00000000e+00, 1.00530303e-10],\n",
       "       [1.00000000e+00, 8.15219797e-31],\n",
       "       [1.00000000e+00, 6.26118894e-26],\n",
       "       [1.00000000e+00, 1.79198768e-50],\n",
       "       [1.00000000e+00, 4.27049566e-24],\n",
       "       [1.00000000e+00, 1.59245315e-24],\n",
       "       [1.00000000e+00, 9.19199526e-26],\n",
       "       [1.00000000e+00, 4.08448788e-49],\n",
       "       [8.35997451e-01, 1.64002549e-01],\n",
       "       [1.00000000e+00, 6.29750096e-17],\n",
       "       [1.00000000e+00, 1.82701004e-21],\n",
       "       [1.00000000e+00, 6.59788300e-26],\n",
       "       [1.00000000e+00, 1.23370976e-31],\n",
       "       [1.00000000e+00, 1.44922383e-18],\n",
       "       [1.00000000e+00, 1.30125195e-26],\n",
       "       [1.00000000e+00, 6.59788300e-26],\n",
       "       [1.00000000e+00, 9.10734743e-26],\n",
       "       [9.98413663e-01, 1.58633707e-03],\n",
       "       [1.00000000e+00, 6.07899506e-26],\n",
       "       [1.00000000e+00, 6.66968688e-40],\n",
       "       [1.00000000e+00, 1.50948913e-25],\n",
       "       [1.00000000e+00, 5.14804444e-23],\n",
       "       [1.00000000e+00, 1.08392118e-24],\n",
       "       [1.00000000e+00, 1.07971875e-25],\n",
       "       [1.00000000e+00, 9.66203994e-24],\n",
       "       [1.00000000e+00, 1.95133850e-54],\n",
       "       [1.00000000e+00, 1.07393949e-24],\n",
       "       [1.00000000e+00, 1.10924525e-17],\n",
       "       [1.00000000e+00, 6.26118894e-26],\n",
       "       [1.00000000e+00, 3.68272023e-20],\n",
       "       [1.00000000e+00, 1.98505404e-35],\n",
       "       [1.00000000e+00, 3.90037956e-25],\n",
       "       [1.00000000e+00, 1.98900864e-14],\n",
       "       [9.99975832e-01, 2.41678443e-05],\n",
       "       [1.00000000e+00, 3.75984952e-21],\n",
       "       [1.00000000e+00, 7.99685035e-27],\n",
       "       [1.00000000e+00, 7.53533775e-27],\n",
       "       [9.99738433e-01, 2.61566950e-04],\n",
       "       [1.00000000e+00, 1.19939572e-38],\n",
       "       [1.00000000e+00, 1.94327708e-37],\n",
       "       [1.00000000e+00, 2.87690381e-20],\n",
       "       [1.00000000e+00, 6.29392242e-43],\n",
       "       [1.00000000e+00, 8.71825820e-24],\n",
       "       [1.00000000e+00, 5.14117531e-20],\n",
       "       [1.00000000e+00, 1.57183885e-30],\n",
       "       [1.00000000e+00, 6.37465028e-25],\n",
       "       [1.00000000e+00, 6.25779483e-22],\n",
       "       [1.00000000e+00, 1.57852621e-29],\n",
       "       [1.00000000e+00, 1.71775373e-27],\n",
       "       [1.00000000e+00, 3.38951004e-22],\n",
       "       [1.00000000e+00, 4.62943888e-37],\n",
       "       [1.00000000e+00, 6.26118894e-26],\n",
       "       [1.00000000e+00, 1.18088747e-15],\n",
       "       [9.98492876e-01, 1.50712378e-03],\n",
       "       [1.00000000e+00, 1.61521185e-12],\n",
       "       [1.00000000e+00, 1.58570398e-23],\n",
       "       [1.00000000e+00, 2.23531112e-19],\n",
       "       [1.00000000e+00, 1.82701004e-21],\n",
       "       [1.00000000e+00, 9.19199526e-26],\n",
       "       [1.00000000e+00, 2.90134500e-22],\n",
       "       [1.00000000e+00, 1.37149484e-40],\n",
       "       [2.23455312e-02, 9.77654469e-01],\n",
       "       [1.00000000e+00, 9.12023477e-14],\n",
       "       [1.00000000e+00, 4.96181981e-30],\n",
       "       [1.00000000e+00, 8.24695739e-31],\n",
       "       [9.99667581e-01, 3.32418981e-04],\n",
       "       [3.70938827e-03, 9.96290612e-01],\n",
       "       [1.00000000e+00, 1.46933166e-17],\n",
       "       [1.00000000e+00, 2.50992083e-20],\n",
       "       [4.28336083e-01, 5.71663917e-01],\n",
       "       [1.00000000e+00, 1.29764869e-33],\n",
       "       [2.80285642e-06, 9.99997197e-01],\n",
       "       [1.00000000e+00, 7.78023148e-25],\n",
       "       [1.00000000e+00, 6.00947073e-26],\n",
       "       [1.00000000e+00, 8.05970565e-15],\n",
       "       [1.00000000e+00, 1.02417408e-27],\n",
       "       [1.00000000e+00, 6.59788300e-26],\n",
       "       [1.00000000e+00, 1.94365529e-31],\n",
       "       [1.00000000e+00, 1.97501617e-20],\n",
       "       [2.93702582e-01, 7.06297418e-01],\n",
       "       [1.00000000e+00, 2.43029424e-46],\n",
       "       [7.00884976e-01, 2.99115024e-01],\n",
       "       [1.00000000e+00, 3.41909799e-19],\n",
       "       [1.00000000e+00, 9.25117635e-19],\n",
       "       [1.00000000e+00, 1.58329735e-29],\n",
       "       [1.00000000e+00, 1.58599325e-20],\n",
       "       [1.00000000e+00, 8.21949117e-39],\n",
       "       [1.00000000e+00, 8.26331689e-23],\n",
       "       [1.00000000e+00, 5.14117531e-20],\n",
       "       [1.00000000e+00, 1.62247587e-31],\n",
       "       [1.00000000e+00, 1.07971875e-25],\n",
       "       [1.00000000e+00, 1.76759777e-18],\n",
       "       [1.00000000e+00, 5.00770257e-21],\n",
       "       [1.00000000e+00, 3.68982620e-25],\n",
       "       [1.00000000e+00, 2.65394213e-12],\n",
       "       [1.00000000e+00, 6.19549764e-19],\n",
       "       [1.00000000e+00, 9.25117635e-19],\n",
       "       [1.00000000e+00, 6.56496331e-15],\n",
       "       [1.00000000e+00, 1.03018745e-36],\n",
       "       [0.00000000e+00, 1.00000000e+00],\n",
       "       [1.19580928e-01, 8.80419072e-01],\n",
       "       [1.00000000e+00, 2.89632084e-14],\n",
       "       [1.00000000e+00, 2.53426272e-17],\n",
       "       [1.00000000e+00, 1.29756803e-40],\n",
       "       [1.00000000e+00, 2.90154123e-26],\n",
       "       [1.00000000e+00, 9.13999976e-26],\n",
       "       [1.00000000e+00, 2.37873286e-19],\n",
       "       [9.94459895e-01, 5.54010512e-03],\n",
       "       [1.00000000e+00, 1.18649165e-24],\n",
       "       [1.00000000e+00, 2.29727633e-18],\n",
       "       [1.00000000e+00, 2.15032827e-29],\n",
       "       [1.00000000e+00, 1.96495085e-10],\n",
       "       [1.00000000e+00, 3.97483316e-56],\n",
       "       [1.60495898e-06, 9.99998395e-01],\n",
       "       [1.00000000e+00, 1.96557952e-15],\n",
       "       [1.00000000e+00, 6.59788300e-26],\n",
       "       [0.00000000e+00, 1.00000000e+00],\n",
       "       [1.00000000e+00, 9.19199526e-26],\n",
       "       [1.00000000e+00, 1.66552109e-35],\n",
       "       [1.00000000e+00, 6.89761356e-19],\n",
       "       [1.00000000e+00, 1.31638410e-36],\n",
       "       [1.00000000e+00, 1.08392118e-24],\n",
       "       [1.00000000e+00, 8.81643779e-13],\n",
       "       [9.99998809e-01, 1.19102655e-06],\n",
       "       [1.00000000e+00, 1.48276534e-22],\n",
       "       [1.00000000e+00, 1.62500978e-26],\n",
       "       [1.00000000e+00, 2.32472248e-13],\n",
       "       [1.00000000e+00, 1.06439874e-22],\n",
       "       [1.00000000e+00, 4.15305452e-58],\n",
       "       [1.00000000e+00, 5.81151502e-16],\n",
       "       [1.00000000e+00, 1.09807640e-41],\n",
       "       [1.00000000e+00, 9.10734743e-26],\n",
       "       [1.00000000e+00, 1.88171631e-19],\n",
       "       [1.00000000e+00, 2.60376964e-27],\n",
       "       [1.00000000e+00, 7.34792442e-20],\n",
       "       [1.00000000e+00, 2.33185329e-35],\n",
       "       [1.00000000e+00, 7.55250691e-22],\n",
       "       [1.00000000e+00, 2.39509077e-22],\n",
       "       [1.00000000e+00, 2.38158904e-35],\n",
       "       [1.00000000e+00, 2.42451630e-17],\n",
       "       [9.90911272e-01, 9.08872786e-03],\n",
       "       [1.00000000e+00, 3.17518237e-26],\n",
       "       [9.99999982e-01, 1.75939766e-08],\n",
       "       [1.00000000e+00, 6.20306672e-27],\n",
       "       [1.00000000e+00, 2.53515853e-32],\n",
       "       [1.00000000e+00, 6.78992469e-26],\n",
       "       [4.23392577e-02, 9.57660742e-01],\n",
       "       [1.00000000e+00, 4.05741649e-26],\n",
       "       [1.00000000e+00, 5.22064335e-48],\n",
       "       [1.00000000e+00, 7.73162558e-22],\n",
       "       [1.00000000e+00, 9.10734743e-26],\n",
       "       [1.00000000e+00, 9.25499373e-44]])"
      ]
     },
     "execution_count": 36,
     "metadata": {},
     "output_type": "execute_result"
    }
   ],
   "source": [
    "predicted_prob_test=logmodel.predict_proba(X_test)\n",
    "predicted_prob_test"
   ]
  },
  {
   "cell_type": "markdown",
   "metadata": {},
   "source": [
    "                                     Thanks for visiting. 🙏🙏"
   ]
  }
 ],
 "metadata": {
  "kernelspec": {
   "display_name": "Python 3 (ipykernel)",
   "language": "python",
   "name": "python3"
  },
  "language_info": {
   "codemirror_mode": {
    "name": "ipython",
    "version": 3
   },
   "file_extension": ".py",
   "mimetype": "text/x-python",
   "name": "python",
   "nbconvert_exporter": "python",
   "pygments_lexer": "ipython3",
   "version": "3.9.12"
  }
 },
 "nbformat": 4,
 "nbformat_minor": 1
}
