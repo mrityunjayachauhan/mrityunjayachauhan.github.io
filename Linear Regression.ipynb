{
 "cells": [
  {
   "cell_type": "markdown",
   "metadata": {},
   "source": [
    "# Introduction to Linear Regression\n",
    "\n",
    "\n",
    "||**supervised**|**unsupervised**|\n",
    "|---|---|---|\n",
    "|**continuous data**|**regression**|dimentionality reduction|\n",
    "|**categorical data**|classification|clustering|\n",
    "\n",
    "\n",
    "## Lifecycle In A Data Science Projects\n",
    "1. Data Analysis / Data Pre-Processing / Exploratory Data Analysis\n",
    "2. Feature Engineering\n",
    "3. Feature Selection\n",
    "4. Model Building\n",
    "5. Model Evaluation\n",
    "6. Model Deployment\n",
    "7. Model Monitoring"
   ]
  },
  {
   "cell_type": "code",
   "execution_count": 1,
   "metadata": {},
   "outputs": [],
   "source": [
    "# Importing libraries\n",
    "import pandas as pd\n",
    "import numpy as np\n",
    "import os\n",
    "import matplotlib.pyplot as plt \n",
    "import seaborn as sns\n",
    "%matplotlib inline"
   ]
  },
  {
   "cell_type": "markdown",
   "metadata": {},
   "source": [
    "## Advertising Data\n",
    "\n",
    "Let's take a look at some data, ask some questions about that data, and then use linear regression to answer those questions!\n",
    "\n",
    "I have downloaded the dataset from Kaggle - [Advertising Data](https://www.kaggle.com/datasets/ashydv/advertising-dataset)"
   ]
  },
  {
   "cell_type": "code",
   "execution_count": 2,
   "metadata": {},
   "outputs": [
    {
     "data": {
      "text/html": [
       "<div>\n",
       "<style scoped>\n",
       "    .dataframe tbody tr th:only-of-type {\n",
       "        vertical-align: middle;\n",
       "    }\n",
       "\n",
       "    .dataframe tbody tr th {\n",
       "        vertical-align: top;\n",
       "    }\n",
       "\n",
       "    .dataframe thead th {\n",
       "        text-align: right;\n",
       "    }\n",
       "</style>\n",
       "<table border=\"1\" class=\"dataframe\">\n",
       "  <thead>\n",
       "    <tr style=\"text-align: right;\">\n",
       "      <th></th>\n",
       "      <th>TV</th>\n",
       "      <th>Radio</th>\n",
       "      <th>Newspaper</th>\n",
       "      <th>Sales</th>\n",
       "    </tr>\n",
       "  </thead>\n",
       "  <tbody>\n",
       "    <tr>\n",
       "      <th>0</th>\n",
       "      <td>230.1</td>\n",
       "      <td>37.8</td>\n",
       "      <td>69.2</td>\n",
       "      <td>22.1</td>\n",
       "    </tr>\n",
       "    <tr>\n",
       "      <th>1</th>\n",
       "      <td>44.5</td>\n",
       "      <td>39.3</td>\n",
       "      <td>45.1</td>\n",
       "      <td>10.4</td>\n",
       "    </tr>\n",
       "    <tr>\n",
       "      <th>2</th>\n",
       "      <td>17.2</td>\n",
       "      <td>45.9</td>\n",
       "      <td>69.3</td>\n",
       "      <td>12.0</td>\n",
       "    </tr>\n",
       "    <tr>\n",
       "      <th>3</th>\n",
       "      <td>151.5</td>\n",
       "      <td>41.3</td>\n",
       "      <td>58.5</td>\n",
       "      <td>16.5</td>\n",
       "    </tr>\n",
       "    <tr>\n",
       "      <th>4</th>\n",
       "      <td>180.8</td>\n",
       "      <td>10.8</td>\n",
       "      <td>58.4</td>\n",
       "      <td>17.9</td>\n",
       "    </tr>\n",
       "  </tbody>\n",
       "</table>\n",
       "</div>"
      ],
      "text/plain": [
       "      TV  Radio  Newspaper  Sales\n",
       "0  230.1   37.8       69.2   22.1\n",
       "1   44.5   39.3       45.1   10.4\n",
       "2   17.2   45.9       69.3   12.0\n",
       "3  151.5   41.3       58.5   16.5\n",
       "4  180.8   10.8       58.4   17.9"
      ]
     },
     "execution_count": 2,
     "metadata": {},
     "output_type": "execute_result"
    }
   ],
   "source": [
    "# read data into a DataFrame\n",
    "chd=os.chdir(r\"C:\\Mrityunjaya\\Learning\\ML\\Linear Regression\")\n",
    "data = pd.read_csv('Advertising.csv')\n",
    "data.head()"
   ]
  },
  {
   "cell_type": "markdown",
   "metadata": {},
   "source": [
    "What are the **features**?\n",
    "- TV: Advertisement cost (in 1000 dollar) on TV for a single product in a given market. (in thousands of dollars)\n",
    "- Radio: Advertisement cost (in 1000 dollar) on Radio of that product.\n",
    "- Newspaper: Advertisement cost (in 1000 dollar) by Newspaper for that product.\n",
    "\n",
    "What is the **response**?\n",
    "- Sales: Sales (in million dollar) of that product in a given market."
   ]
  },
  {
   "cell_type": "markdown",
   "metadata": {},
   "source": [
    "## Exploratory Data Analysis"
   ]
  },
  {
   "cell_type": "code",
   "execution_count": 3,
   "metadata": {},
   "outputs": [
    {
     "name": "stdout",
     "output_type": "stream",
     "text": [
      "Shape of data: (200, 4)\n"
     ]
    }
   ],
   "source": [
    "# print the shape of the DataFrame\n",
    "print(\"Shape of data:\",data.shape)"
   ]
  },
  {
   "cell_type": "markdown",
   "metadata": {},
   "source": [
    "There are 200 **observations**, since we have data of advertisement for a single product in different markets. Hence 200 markets in the dataset for that product."
   ]
  },
  {
   "cell_type": "code",
   "execution_count": 4,
   "metadata": {},
   "outputs": [
    {
     "name": "stdout",
     "output_type": "stream",
     "text": [
      "<class 'pandas.core.frame.DataFrame'>\n",
      "RangeIndex: 200 entries, 0 to 199\n",
      "Data columns (total 4 columns):\n",
      " #   Column     Non-Null Count  Dtype  \n",
      "---  ------     --------------  -----  \n",
      " 0   TV         199 non-null    float64\n",
      " 1   Radio      197 non-null    float64\n",
      " 2   Newspaper  200 non-null    float64\n",
      " 3   Sales      200 non-null    float64\n",
      "dtypes: float64(4)\n",
      "memory usage: 6.4 KB\n"
     ]
    }
   ],
   "source": [
    "data.info()"
   ]
  },
  {
   "cell_type": "code",
   "execution_count": 5,
   "metadata": {},
   "outputs": [
    {
     "name": "stdout",
     "output_type": "stream",
     "text": [
      "Percentage of cost spent in advertisement in 200 markets: 1.33 %\n"
     ]
    }
   ],
   "source": [
    "var=[features for features in data.columns if features!='Sales']\n",
    "adv=[]\n",
    "for x in var:\n",
    "    adv.append(data[x].sum())\n",
    "    \n",
    "print(\"Percentage of cost spent in advertisement in 200 markets:\",np.round(sum(adv)/(data['Sales'].sum()*1000)*100,2),\"%\")"
   ]
  },
  {
   "cell_type": "code",
   "execution_count": 6,
   "metadata": {},
   "outputs": [
    {
     "name": "stdout",
     "output_type": "stream",
     "text": [
      "Percentage of cost spent in advertisement in 0 markets:1.53%\n",
      "Percentage of cost spent in advertisement in 1 markets:1.24%\n",
      "Percentage of cost spent in advertisement in 2 markets:1.1%\n",
      "Percentage of cost spent in advertisement in 3 markets:1.52%\n",
      "Percentage of cost spent in advertisement in 4 markets:1.4%\n",
      "Percentage of cost spent in advertisement in 5 markets:1.84%\n",
      "Percentage of cost spent in advertisement in 6 markets:0.96%\n",
      "Percentage of cost spent in advertisement in 7 markets:1.15%\n",
      "Percentage of cost spent in advertisement in 8 markets:0.24%\n",
      "Percentage of cost spent in advertisement in 9 markets:1.43%\n",
      "Percentage of cost spent in advertisement in 10 markets:0.76%\n",
      "Percentage of cost spent in advertisement in 11 markets:1.39%\n",
      "Percentage of cost spent in advertisement in 12 markets:1.36%\n",
      "Percentage of cost spent in advertisement in 13 markets:0.82%\n",
      "Percentage of cost spent in advertisement in 14 markets:1.49%\n",
      "Percentage of cost spent in advertisement in 15 markets:1.32%\n",
      "Percentage of cost spent in advertisement in 16 markets:1.75%\n",
      "Percentage of cost spent in advertisement in 17 markets:1.54%\n",
      "Percentage of cost spent in advertisement in 18 markets:0.96%\n",
      "Percentage of cost spent in advertisement in 19 markets:1.3%\n",
      "Percentage of cost spent in advertisement in 20 markets:1.66%\n",
      "Percentage of cost spent in advertisement in 21 markets:1.52%\n",
      "Percentage of cost spent in advertisement in 22 markets:1.41%\n",
      "Percentage of cost spent in advertisement in 23 markets:1.32%\n",
      "Percentage of cost spent in advertisement in 24 markets:0.96%\n",
      "Percentage of cost spent in advertisement in 25 markets:1.68%\n",
      "Percentage of cost spent in advertisement in 26 markets:1.23%\n",
      "Percentage of cost spent in advertisement in 27 markets:1.34%\n",
      "Percentage of cost spent in advertisement in 28 markets:1.58%\n",
      "Percentage of cost spent in advertisement in 29 markets:1.21%\n",
      "Percentage of cost spent in advertisement in 30 markets:1.7%\n",
      "Percentage of cost spent in advertisement in 31 markets:1.42%\n",
      "Percentage of cost spent in advertisement in 32 markets:0.98%\n",
      "Percentage of cost spent in advertisement in 33 markets:1.64%\n",
      "Percentage of cost spent in advertisement in 34 markets:0.88%\n",
      "Percentage of cost spent in advertisement in 35 markets:1.7%\n",
      "Percentage of cost spent in advertisement in 36 markets:1.24%\n",
      "Percentage of cost spent in advertisement in 37 markets:1.16%\n",
      "Percentage of cost spent in advertisement in 38 markets:1.04%\n",
      "Percentage of cost spent in advertisement in 39 markets:1.38%\n",
      "Percentage of cost spent in advertisement in 40 markets:1.54%\n",
      "Percentage of cost spent in advertisement in 41 markets:1.46%\n",
      "Percentage of cost spent in advertisement in 42 markets:1.56%\n",
      "Percentage of cost spent in advertisement in 43 markets:1.35%\n",
      "Percentage of cost spent in advertisement in 44 markets:1.11%\n",
      "Percentage of cost spent in advertisement in 45 markets:1.42%\n",
      "Percentage of cost spent in advertisement in 46 markets:1.28%\n",
      "Percentage of cost spent in advertisement in 47 markets:1.29%\n",
      "Percentage of cost spent in advertisement in 48 markets:1.48%\n",
      "Percentage of cost spent in advertisement in 49 markets:1.19%\n",
      "Percentage of cost spent in advertisement in 50 markets:1.45%\n",
      "Percentage of cost spent in advertisement in 51 markets:1.06%\n",
      "Percentage of cost spent in advertisement in 52 markets:1.32%\n",
      "Percentage of cost spent in advertisement in 53 markets:1.36%\n",
      "Percentage of cost spent in advertisement in 54 markets:1.52%\n",
      "Percentage of cost spent in advertisement in 55 markets:1.3%\n",
      "Percentage of cost spent in advertisement in 56 markets:1.4%\n",
      "Percentage of cost spent in advertisement in 57 markets:1.3%\n",
      "Percentage of cost spent in advertisement in 58 markets:1.25%\n",
      "Percentage of cost spent in advertisement in 59 markets:1.36%\n",
      "Percentage of cost spent in advertisement in 60 markets:0.95%\n",
      "Percentage of cost spent in advertisement in 61 markets:1.48%\n",
      "Percentage of cost spent in advertisement in 62 markets:1.36%\n",
      "Percentage of cost spent in advertisement in 63 markets:1.01%\n",
      "Percentage of cost spent in advertisement in 64 markets:1.27%\n",
      "Percentage of cost spent in advertisement in 65 markets:0.7%\n",
      "Percentage of cost spent in advertisement in 66 markets:0.53%\n",
      "Percentage of cost spent in advertisement in 67 markets:1.22%\n",
      "Percentage of cost spent in advertisement in 68 markets:1.46%\n",
      "Percentage of cost spent in advertisement in 69 markets:1.29%\n",
      "Percentage of cost spent in advertisement in 70 markets:1.47%\n",
      "Percentage of cost spent in advertisement in 71 markets:1.26%\n",
      "Percentage of cost spent in advertisement in 72 markets:0.9%\n",
      "Percentage of cost spent in advertisement in 73 markets:1.51%\n",
      "Percentage of cost spent in advertisement in 74 markets:1.48%\n",
      "Percentage of cost spent in advertisement in 75 markets:1.72%\n",
      "Percentage of cost spent in advertisement in 76 markets:0.72%\n",
      "Percentage of cost spent in advertisement in 77 markets:1.15%\n",
      "Percentage of cost spent in advertisement in 78 markets:0.84%\n",
      "Percentage of cost spent in advertisement in 79 markets:1.33%\n",
      "Percentage of cost spent in advertisement in 80 markets:1.06%\n",
      "Percentage of cost spent in advertisement in 81 markets:1.62%\n",
      "Percentage of cost spent in advertisement in 82 markets:1.13%\n",
      "Percentage of cost spent in advertisement in 83 markets:1.09%\n",
      "Percentage of cost spent in advertisement in 84 markets:1.34%\n",
      "Percentage of cost spent in advertisement in 85 markets:1.37%\n",
      "Percentage of cost spent in advertisement in 86 markets:1.0%\n",
      "Percentage of cost spent in advertisement in 87 markets:1.34%\n",
      "Percentage of cost spent in advertisement in 88 markets:1.45%\n",
      "Percentage of cost spent in advertisement in 89 markets:1.25%\n",
      "Percentage of cost spent in advertisement in 90 markets:1.06%\n",
      "Percentage of cost spent in advertisement in 91 markets:0.86%\n",
      "Percentage of cost spent in advertisement in 92 markets:1.6%\n",
      "Percentage of cost spent in advertisement in 93 markets:1.62%\n",
      "Percentage of cost spent in advertisement in 94 markets:1.15%\n",
      "Percentage of cost spent in advertisement in 95 markets:1.47%\n",
      "Percentage of cost spent in advertisement in 96 markets:1.24%\n",
      "Percentage of cost spent in advertisement in 97 markets:1.11%\n",
      "Percentage of cost spent in advertisement in 98 markets:1.51%\n",
      "Percentage of cost spent in advertisement in 99 markets:1.3%\n",
      "Percentage of cost spent in advertisement in 100 markets:1.66%\n",
      "Percentage of cost spent in advertisement in 101 markets:1.82%\n",
      "Percentage of cost spent in advertisement in 102 markets:1.57%\n",
      "Percentage of cost spent in advertisement in 103 markets:1.13%\n",
      "Percentage of cost spent in advertisement in 104 markets:1.34%\n",
      "Percentage of cost spent in advertisement in 105 markets:1.62%\n",
      "Percentage of cost spent in advertisement in 106 markets:0.91%\n",
      "Percentage of cost spent in advertisement in 107 markets:nan%\n",
      "Percentage of cost spent in advertisement in 108 markets:nan%\n",
      "Percentage of cost spent in advertisement in 109 markets:1.45%\n",
      "Percentage of cost spent in advertisement in 110 markets:1.58%\n",
      "Percentage of cost spent in advertisement in 111 markets:1.39%\n",
      "Percentage of cost spent in advertisement in 112 markets:1.13%\n",
      "Percentage of cost spent in advertisement in 113 markets:1.15%\n",
      "Percentage of cost spent in advertisement in 114 markets:1.09%\n",
      "Percentage of cost spent in advertisement in 115 markets:1.29%\n",
      "Percentage of cost spent in advertisement in 116 markets:1.47%\n",
      "Percentage of cost spent in advertisement in 117 markets:0.98%\n",
      "Percentage of cost spent in advertisement in 118 markets:1.52%\n",
      "Percentage of cost spent in advertisement in 119 markets:0.87%\n",
      "Percentage of cost spent in advertisement in 120 markets:1.38%\n",
      "Percentage of cost spent in advertisement in 121 markets:1.3%\n",
      "Percentage of cost spent in advertisement in 122 markets:1.46%\n",
      "Percentage of cost spent in advertisement in 123 markets:1.12%\n",
      "Percentage of cost spent in advertisement in 124 markets:1.71%\n",
      "Percentage of cost spent in advertisement in 125 markets:1.18%\n",
      "Percentage of cost spent in advertisement in 126 markets:1.47%\n",
      "Percentage of cost spent in advertisement in 127 markets:nan%\n",
      "Percentage of cost spent in advertisement in 128 markets:1.1%\n",
      "Percentage of cost spent in advertisement in 129 markets:1.18%\n",
      "Percentage of cost spent in advertisement in 130 markets:nan%\n",
      "Percentage of cost spent in advertisement in 131 markets:1.76%\n",
      "Percentage of cost spent in advertisement in 132 markets:0.66%\n",
      "Percentage of cost spent in advertisement in 133 markets:1.52%\n",
      "Percentage of cost spent in advertisement in 134 markets:1.31%\n",
      "Percentage of cost spent in advertisement in 135 markets:0.89%\n",
      "Percentage of cost spent in advertisement in 136 markets:0.78%\n",
      "Percentage of cost spent in advertisement in 137 markets:1.74%\n",
      "Percentage of cost spent in advertisement in 138 markets:0.93%\n",
      "Percentage of cost spent in advertisement in 139 markets:1.11%\n",
      "Percentage of cost spent in advertisement in 140 markets:0.95%\n",
      "Percentage of cost spent in advertisement in 141 markets:1.59%\n",
      "Percentage of cost spent in advertisement in 142 markets:1.45%\n",
      "Percentage of cost spent in advertisement in 143 markets:1.39%\n",
      "Percentage of cost spent in advertisement in 144 markets:1.22%\n",
      "Percentage of cost spent in advertisement in 145 markets:1.47%\n",
      "Percentage of cost spent in advertisement in 146 markets:1.41%\n",
      "Percentage of cost spent in advertisement in 147 markets:1.32%\n",
      "Percentage of cost spent in advertisement in 148 markets:0.83%\n",
      "Percentage of cost spent in advertisement in 149 markets:0.9%\n",
      "Percentage of cost spent in advertisement in 150 markets:2.06%\n",
      "Percentage of cost spent in advertisement in 151 markets:1.54%\n",
      "Percentage of cost spent in advertisement in 152 markets:1.42%\n",
      "Percentage of cost spent in advertisement in 153 markets:1.55%\n",
      "Percentage of cost spent in advertisement in 154 markets:1.06%\n",
      "Percentage of cost spent in advertisement in 155 markets:0.67%\n",
      "Percentage of cost spent in advertisement in 156 markets:1.23%\n",
      "Percentage of cost spent in advertisement in 157 markets:1.74%\n",
      "Percentage of cost spent in advertisement in 158 markets:1.28%\n",
      "Percentage of cost spent in advertisement in 159 markets:1.43%\n",
      "Percentage of cost spent in advertisement in 160 markets:1.35%\n",
      "Percentage of cost spent in advertisement in 161 markets:1.28%\n",
      "Percentage of cost spent in advertisement in 162 markets:1.17%\n",
      "Percentage of cost spent in advertisement in 163 markets:1.15%\n",
      "Percentage of cost spent in advertisement in 164 markets:1.15%\n",
      "Percentage of cost spent in advertisement in 165 markets:1.91%\n",
      "Percentage of cost spent in advertisement in 166 markets:0.96%\n",
      "Percentage of cost spent in advertisement in 167 markets:1.35%\n",
      "Percentage of cost spent in advertisement in 168 markets:1.73%\n",
      "Percentage of cost spent in advertisement in 169 markets:1.51%\n",
      "Percentage of cost spent in advertisement in 170 markets:0.95%\n",
      "Percentage of cost spent in advertisement in 171 markets:1.33%\n",
      "Percentage of cost spent in advertisement in 172 markets:0.75%\n",
      "Percentage of cost spent in advertisement in 173 markets:1.13%\n",
      "Percentage of cost spent in advertisement in 174 markets:1.45%\n",
      "Percentage of cost spent in advertisement in 175 markets:1.36%\n",
      "Percentage of cost spent in advertisement in 176 markets:1.48%\n",
      "Percentage of cost spent in advertisement in 177 markets:1.28%\n",
      "Percentage of cost spent in advertisement in 178 markets:1.8%\n",
      "Percentage of cost spent in advertisement in 179 markets:1.1%\n",
      "Percentage of cost spent in advertisement in 180 markets:1.08%\n",
      "Percentage of cost spent in advertisement in 181 markets:1.46%\n",
      "Percentage of cost spent in advertisement in 182 markets:1.05%\n",
      "Percentage of cost spent in advertisement in 183 markets:1.54%\n",
      "Percentage of cost spent in advertisement in 184 markets:1.73%\n",
      "Percentage of cost spent in advertisement in 185 markets:1.19%\n",
      "Percentage of cost spent in advertisement in 186 markets:1.63%\n",
      "Percentage of cost spent in advertisement in 187 markets:1.38%\n",
      "Percentage of cost spent in advertisement in 188 markets:1.45%\n",
      "Percentage of cost spent in advertisement in 189 markets:0.81%\n",
      "Percentage of cost spent in advertisement in 190 markets:0.8%\n",
      "Percentage of cost spent in advertisement in 191 markets:0.78%\n",
      "Percentage of cost spent in advertisement in 192 markets:0.9%\n",
      "Percentage of cost spent in advertisement in 193 markets:1.08%\n",
      "Percentage of cost spent in advertisement in 194 markets:1.11%\n",
      "Percentage of cost spent in advertisement in 195 markets:0.73%\n",
      "Percentage of cost spent in advertisement in 196 markets:0.77%\n",
      "Percentage of cost spent in advertisement in 197 markets:1.3%\n",
      "Percentage of cost spent in advertisement in 198 markets:1.54%\n",
      "Percentage of cost spent in advertisement in 199 markets:1.36%\n"
     ]
    }
   ],
   "source": [
    "# Calculating the percentage of cost spend on advertisement for each market\n",
    "var=[features for features in data.columns if features!='Sales']\n",
    "for i in range(0,200,1):\n",
    "    adv=[]\n",
    "    for x in var:\n",
    "        adv.append(data.iloc[i,:][x].sum())\n",
    "    \n",
    "    print(\"Percentage of cost spent in advertisement in {} markets:{}%\".format(i,np.round(sum(adv)/(data.iloc[i,:]['Sales']*1000)*100,2)))"
   ]
  },
  {
   "cell_type": "code",
   "execution_count": 7,
   "metadata": {},
   "outputs": [
    {
     "name": "stdout",
     "output_type": "stream",
     "text": [
      "TV : 0.5 % missing values\n",
      "Radio : 1.5 % missing values\n"
     ]
    }
   ],
   "source": [
    "# checking for missing values\n",
    "NA = [features for features in data.columns if data[features].isnull().sum()>0]\n",
    "for features in NA:\n",
    "    print(features,\":\",np.round(data[features].isnull().mean()*100,2),\"% missing values\")"
   ]
  },
  {
   "cell_type": "code",
   "execution_count": 8,
   "metadata": {},
   "outputs": [
    {
     "data": {
      "image/png": "[encoded data removed]",
      "text/plain": [
       "<Figure size 432x288 with 1 Axes>"
      ]
     },
     "metadata": {
      "needs_background": "light"
     },
     "output_type": "display_data"
    },
    {
     "data": {
      "image/png": "[encoded data removed]",
      "text/plain": [
       "<Figure size 432x288 with 1 Axes>"
      ]
     },
     "metadata": {
      "needs_background": "light"
     },
     "output_type": "display_data"
    }
   ],
   "source": [
    "# checking for dependence of missing values on dependent variable\n",
    "for features in NA:\n",
    "    dcopy=data.copy()\n",
    "    dcopy[features]=np.where(dcopy[features].isnull(),1,0)\n",
    "    dcopy.groupby(features)['Sales'].mean().plot.bar(color=['orange','grey'])\n",
    "    plt.ylabel('Mean of Sales')\n",
    "    plt.show()"
   ]
  },
  {
   "cell_type": "markdown",
   "metadata": {},
   "source": [
    "- From the above graph, we can conclude that missing values are more significant in advertising through Radio as compared to TV.\n",
    "- We can drop the missing records as the percentage is quit low (i.e <2%), but we will impute the missing values in feature engineering section."
   ]
  },
  {
   "cell_type": "code",
   "execution_count": 9,
   "metadata": {},
   "outputs": [
    {
     "data": {
      "image/png": "[encoded data removed]",
      "text/plain": [
       "<Figure size 432x288 with 1 Axes>"
      ]
     },
     "metadata": {
      "needs_background": "light"
     },
     "output_type": "display_data"
    },
    {
     "data": {
      "image/png": "[encoded data removed]",
      "text/plain": [
       "<Figure size 432x288 with 1 Axes>"
      ]
     },
     "metadata": {
      "needs_background": "light"
     },
     "output_type": "display_data"
    },
    {
     "data": {
      "image/png": "[encoded data removed]",
      "text/plain": [
       "<Figure size 432x288 with 1 Axes>"
      ]
     },
     "metadata": {
      "needs_background": "light"
     },
     "output_type": "display_data"
    },
    {
     "data": {
      "image/png": "[encoded data removed]",
      "text/plain": [
       "<Figure size 432x288 with 1 Axes>"
      ]
     },
     "metadata": {
      "needs_background": "light"
     },
     "output_type": "display_data"
    }
   ],
   "source": [
    "# checking for data distribution using histogram\n",
    "for features in data.columns:\n",
    "    sns.histplot(data[features],bins=20,kde=True,color='orange',line_kws={'linestyle':'dashed'})\n",
    "    plt.xlabel(features)\n",
    "    plt.ylabel(\"count\")\n",
    "    plt.show()"
   ]
  },
  {
   "cell_type": "markdown",
   "metadata": {},
   "source": [
    "- From above graph, it is clear that the data is not normally distributed.\n",
    "- Some outlier value are present in Newspaper adv.\n",
    "- Please note that Linear Regression model is based on assumption that the data should be normally distributed."
   ]
  },
  {
   "cell_type": "code",
   "execution_count": 10,
   "metadata": {},
   "outputs": [
    {
     "data": {
      "image/png": "[encoded data removed]",
      "text/plain": [
       "<Figure size 432x288 with 1 Axes>"
      ]
     },
     "metadata": {
      "needs_background": "light"
     },
     "output_type": "display_data"
    },
    {
     "data": {
      "image/png": "[encoded data removed]",
      "text/plain": [
       "<Figure size 432x288 with 1 Axes>"
      ]
     },
     "metadata": {
      "needs_background": "light"
     },
     "output_type": "display_data"
    },
    {
     "data": {
      "image/png": "[encoded data removed]",
      "text/plain": [
       "<Figure size 432x288 with 1 Axes>"
      ]
     },
     "metadata": {
      "needs_background": "light"
     },
     "output_type": "display_data"
    },
    {
     "data": {
      "image/png": "[encoded data removed]",
      "text/plain": [
       "<Figure size 432x288 with 1 Axes>"
      ]
     },
     "metadata": {
      "needs_background": "light"
     },
     "output_type": "display_data"
    }
   ],
   "source": [
    "# checking outliers uaing box plot\n",
    "for features in data.columns:\n",
    "    sns.boxplot(y=data[features],hue=True,color='orange',fliersize=10)\n",
    "    plt.ylabel(features)\n",
    "    plt.show()"
   ]
  },
  {
   "cell_type": "code",
   "execution_count": 11,
   "metadata": {},
   "outputs": [
    {
     "data": {
      "image/png": "[encoded data removed]",
      "text/plain": [
       "<Figure size 864x432 with 3 Axes>"
      ]
     },
     "metadata": {
      "needs_background": "light"
     },
     "output_type": "display_data"
    }
   ],
   "source": [
    "# visualize the relationship between the features and the response using scatterplots\n",
    "fig, axs = plt.subplots(1, 3, sharey=True,figsize=(12,6))\n",
    "feature= [features for features in data.columns if features !='Sales']\n",
    "for i,j in enumerate(feature,0):\n",
    "    sns.scatterplot(x=data[j],y=data['Sales'],ax=axs[i])\n"
   ]
  },
  {
   "cell_type": "code",
   "execution_count": 12,
   "metadata": {},
   "outputs": [
    {
     "data": {
      "text/html": [
       "<div>\n",
       "<style scoped>\n",
       "    .dataframe tbody tr th:only-of-type {\n",
       "        vertical-align: middle;\n",
       "    }\n",
       "\n",
       "    .dataframe tbody tr th {\n",
       "        vertical-align: top;\n",
       "    }\n",
       "\n",
       "    .dataframe thead th {\n",
       "        text-align: right;\n",
       "    }\n",
       "</style>\n",
       "<table border=\"1\" class=\"dataframe\">\n",
       "  <thead>\n",
       "    <tr style=\"text-align: right;\">\n",
       "      <th></th>\n",
       "      <th>TV</th>\n",
       "      <th>Radio</th>\n",
       "      <th>Newspaper</th>\n",
       "      <th>Sales</th>\n",
       "    </tr>\n",
       "  </thead>\n",
       "  <tbody>\n",
       "    <tr>\n",
       "      <th>TV</th>\n",
       "      <td>1.000000</td>\n",
       "      <td>0.042058</td>\n",
       "      <td>0.048489</td>\n",
       "      <td>0.900726</td>\n",
       "    </tr>\n",
       "    <tr>\n",
       "      <th>Radio</th>\n",
       "      <td>0.042058</td>\n",
       "      <td>1.000000</td>\n",
       "      <td>0.349290</td>\n",
       "      <td>0.335200</td>\n",
       "    </tr>\n",
       "    <tr>\n",
       "      <th>Newspaper</th>\n",
       "      <td>0.048489</td>\n",
       "      <td>0.349290</td>\n",
       "      <td>1.000000</td>\n",
       "      <td>0.157960</td>\n",
       "    </tr>\n",
       "    <tr>\n",
       "      <th>Sales</th>\n",
       "      <td>0.900726</td>\n",
       "      <td>0.335200</td>\n",
       "      <td>0.157960</td>\n",
       "      <td>1.000000</td>\n",
       "    </tr>\n",
       "  </tbody>\n",
       "</table>\n",
       "</div>"
      ],
      "text/plain": [
       "                 TV     Radio  Newspaper     Sales\n",
       "TV         1.000000  0.042058   0.048489  0.900726\n",
       "Radio      0.042058  1.000000   0.349290  0.335200\n",
       "Newspaper  0.048489  0.349290   1.000000  0.157960\n",
       "Sales      0.900726  0.335200   0.157960  1.000000"
      ]
     },
     "execution_count": 12,
     "metadata": {},
     "output_type": "execute_result"
    }
   ],
   "source": [
    "# checking for correlation between features\n",
    "data.corr()"
   ]
  },
  {
   "cell_type": "code",
   "execution_count": 13,
   "metadata": {},
   "outputs": [
    {
     "data": {
      "text/plain": [
       "<AxesSubplot:>"
      ]
     },
     "execution_count": 13,
     "metadata": {},
     "output_type": "execute_result"
    },
    {
     "data": {
      "image/png": "[encoded data removed]",
      "text/plain": [
       "<Figure size 432x288 with 2 Axes>"
      ]
     },
     "metadata": {
      "needs_background": "light"
     },
     "output_type": "display_data"
    }
   ],
   "source": [
    "sns.heatmap(data.corr())"
   ]
  },
  {
   "cell_type": "markdown",
   "metadata": {},
   "source": [
    "A valuable numerical measure of association between two variables is the correlation coefficient, which is a value between -1 and 1 indicating the strength of the association of the observed data for the two variables."
   ]
  },
  {
   "cell_type": "markdown",
   "metadata": {},
   "source": [
    "### Questions About the Advertising Data\n",
    "\n",
    "Suppose, we work for the company that manufactures and markets this product. The company might ask the following questions: On the basis of this data, how should we spend our advertising money in the future?\n",
    "\n",
    "This general question might leads to more specific questions:\n",
    "1. Is there a relationship between ads and sales?\n",
    "2. How strong is that relationship?\n",
    "3. Which ad types contribute to sales?\n",
    "4. What is the effect of each ad type of sales?\n",
    "5. Given ad spending in a particular market, can sales be predicted?\n",
    "\n",
    "**Let's Find ...**"
   ]
  },
  {
   "cell_type": "markdown",
   "metadata": {},
   "source": [
    "## Feature Engineering"
   ]
  },
  {
   "cell_type": "markdown",
   "metadata": {},
   "source": [
    "### Imputing the missing values\n",
    "- For imputing missing values in continuous numerical variable, generally we use the mean or median of the data.\n",
    "- When the data is normally distributed, the central tendancy of the data is represented by mean. Hence, impute the missing values with mean.\n",
    "- When the data is skewed, the central tendancy of the data is represented by median. Hence, impute the missing values with median."
   ]
  },
  {
   "cell_type": "code",
   "execution_count": 14,
   "metadata": {},
   "outputs": [],
   "source": [
    "# In this case, I'm imputting the missing value with random value between 0 & 1.\n",
    "NA = [features for features in data.columns if data[features].isnull().sum()>0]\n",
    "for features in NA:\n",
    "    data[features].fillna(np.round(np.random.rand(),1),inplace=True)"
   ]
  },
  {
   "cell_type": "code",
   "execution_count": 15,
   "metadata": {},
   "outputs": [
    {
     "name": "stdout",
     "output_type": "stream",
     "text": [
      "<class 'pandas.core.frame.DataFrame'>\n",
      "RangeIndex: 200 entries, 0 to 199\n",
      "Data columns (total 4 columns):\n",
      " #   Column     Non-Null Count  Dtype  \n",
      "---  ------     --------------  -----  \n",
      " 0   TV         200 non-null    float64\n",
      " 1   Radio      200 non-null    float64\n",
      " 2   Newspaper  200 non-null    float64\n",
      " 3   Sales      200 non-null    float64\n",
      "dtypes: float64(4)\n",
      "memory usage: 6.4 KB\n"
     ]
    }
   ],
   "source": [
    "data.info()"
   ]
  },
  {
   "cell_type": "markdown",
   "metadata": {},
   "source": [
    "### Normalizing the independent variable\n",
    "- Please note that, we will only normalize the independent varibale. Hence, it is require to split the dataset into dependent and independent variables.\n",
    "- We will split the independent variable into training and testing set before normalization to avoid data leakage."
   ]
  },
  {
   "cell_type": "code",
   "execution_count": 16,
   "metadata": {},
   "outputs": [],
   "source": [
    "from sklearn.model_selection import train_test_split\n",
    "from sklearn.preprocessing import MinMaxScaler"
   ]
  },
  {
   "cell_type": "code",
   "execution_count": 17,
   "metadata": {},
   "outputs": [],
   "source": [
    "# Seperating the dependent and independent variable\n",
    "X=data[['TV','Radio','Newspaper']]\n",
    "y=data['Sales']"
   ]
  },
  {
   "cell_type": "code",
   "execution_count": 18,
   "metadata": {},
   "outputs": [],
   "source": [
    "X_train,X_test,y_train,y_test=train_test_split(X,y,test_size=0.2,random_state=0)"
   ]
  },
  {
   "cell_type": "code",
   "execution_count": 19,
   "metadata": {},
   "outputs": [],
   "source": [
    "# Normalizing X_train\n",
    "normalize=MinMaxScaler()\n",
    "normalize.fit(X_train)\n",
    "x_train=normalize.transform(X_train)"
   ]
  },
  {
   "cell_type": "code",
   "execution_count": 20,
   "metadata": {},
   "outputs": [],
   "source": [
    "# Normalizing X_test\n",
    "normalize=MinMaxScaler()\n",
    "normalize.fit(X_test)\n",
    "x_test=normalize.transform(X_test)"
   ]
  },
  {
   "cell_type": "markdown",
   "metadata": {},
   "source": [
    "### Model Development"
   ]
  },
  {
   "cell_type": "markdown",
   "metadata": {},
   "source": [
    "#### Simple Linear Regression\n",
    "\n",
    "Simple linear regression is an approach for predicting a **quantitative response** using a **single feature** (or \"predictor\" or \"input variable\"). It takes the following form:\n",
    "\n",
    "$y = \\beta_0 + \\beta_1x$\n",
    "\n",
    "What does each term represent?\n",
    "- $y$ is the response\n",
    "- $x$ is the feature\n",
    "- $\\beta_0$ is the intercept\n",
    "- $\\beta_1$ is the coefficient for x\n",
    "\n",
    "Together, $\\beta_0$ and $\\beta_1$ are called the **model coefficients**.\n",
    "\n",
    "$Sales = \\beta_0 + \\beta_1TV$\n",
    "\n",
    "- Coefficients are estimated using the **least squares criterion**, by minimizes the **sum of squared residuals** (or \"sum of squared errors\"):"
   ]
  },
  {
   "cell_type": "markdown",
   "metadata": {},
   "source": [
    "We can also use **ScikitLearn** to estimate the model coefficients for the advertising data:"
   ]
  },
  {
   "cell_type": "code",
   "execution_count": 21,
   "metadata": {},
   "outputs": [],
   "source": [
    "from sklearn.linear_model import LinearRegression\n",
    "from sklearn import metrics"
   ]
  },
  {
   "cell_type": "code",
   "execution_count": 22,
   "metadata": {},
   "outputs": [
    {
     "name": "stdout",
     "output_type": "stream",
     "text": [
      "Intercept: [6.97465749]\n",
      "Coefficient: [[0.05546532]]\n"
     ]
    }
   ],
   "source": [
    "X = data['TV'].values.reshape(-1,1)\n",
    "Y = data['Sales'].values.reshape(-1,1)\n",
    "\n",
    "regr = LinearRegression()\n",
    "regr.fit(X,Y)\n",
    "print('Intercept:', regr.intercept_)\n",
    "print('Coefficient:', regr.coef_)"
   ]
  },
  {
   "cell_type": "markdown",
   "metadata": {},
   "source": [
    "Thus, predicting the sales value for the product."
   ]
  },
  {
   "cell_type": "code",
   "execution_count": 23,
   "metadata": {},
   "outputs": [
    {
     "data": {
      "text/plain": [
       "array([[9.74792349]])"
      ]
     },
     "execution_count": 23,
     "metadata": {},
     "output_type": "execute_result"
    }
   ],
   "source": [
    "regr.predict(np.array([[50]]))"
   ]
  },
  {
   "cell_type": "code",
   "execution_count": 24,
   "metadata": {},
   "outputs": [
    {
     "data": {
      "text/plain": [
       "array([[9.74792349]])"
      ]
     },
     "execution_count": 24,
     "metadata": {},
     "output_type": "execute_result"
    }
   ],
   "source": [
    "regr.predict(pd.DataFrame([50]))"
   ]
  },
  {
   "cell_type": "markdown",
   "metadata": {},
   "source": [
    "#### Plotting the Least Squares Line\n",
    "\n",
    "Let's make predictions for the **smallest and largest observed values of x**, and then use the predicted values to plot the least squares line:"
   ]
  },
  {
   "cell_type": "code",
   "execution_count": 25,
   "metadata": {},
   "outputs": [
    {
     "data": {
      "text/html": [
       "<div>\n",
       "<style scoped>\n",
       "    .dataframe tbody tr th:only-of-type {\n",
       "        vertical-align: middle;\n",
       "    }\n",
       "\n",
       "    .dataframe tbody tr th {\n",
       "        vertical-align: top;\n",
       "    }\n",
       "\n",
       "    .dataframe thead th {\n",
       "        text-align: right;\n",
       "    }\n",
       "</style>\n",
       "<table border=\"1\" class=\"dataframe\">\n",
       "  <thead>\n",
       "    <tr style=\"text-align: right;\">\n",
       "      <th></th>\n",
       "      <th>TV</th>\n",
       "    </tr>\n",
       "  </thead>\n",
       "  <tbody>\n",
       "    <tr>\n",
       "      <th>0</th>\n",
       "      <td>1.0</td>\n",
       "    </tr>\n",
       "    <tr>\n",
       "      <th>1</th>\n",
       "      <td>296.4</td>\n",
       "    </tr>\n",
       "  </tbody>\n",
       "</table>\n",
       "</div>"
      ],
      "text/plain": [
       "      TV\n",
       "0    1.0\n",
       "1  296.4"
      ]
     },
     "execution_count": 25,
     "metadata": {},
     "output_type": "execute_result"
    }
   ],
   "source": [
    "# create a DataFrame with the minimum and maximum values of TV\n",
    "X_new = pd.DataFrame({'TV': [data.TV.min(), data.TV.max()]})\n",
    "X_new.head()"
   ]
  },
  {
   "cell_type": "code",
   "execution_count": 26,
   "metadata": {},
   "outputs": [
    {
     "name": "stderr",
     "output_type": "stream",
     "text": [
      "C:\\Users\\chmr2001\\Anaconda3\\lib\\site-packages\\sklearn\\base.py:443: UserWarning: X has feature names, but LinearRegression was fitted without feature names\n",
      "  warnings.warn(\n"
     ]
    },
    {
     "data": {
      "text/plain": [
       "array([[ 7.03012281],\n",
       "       [23.41457833]])"
      ]
     },
     "execution_count": 26,
     "metadata": {},
     "output_type": "execute_result"
    }
   ],
   "source": [
    "# make predictions for those x values and store them\n",
    "preds = regr.predict(X_new)\n",
    "preds"
   ]
  },
  {
   "cell_type": "code",
   "execution_count": 27,
   "metadata": {},
   "outputs": [
    {
     "data": {
      "image/png": "[encoded data removed]",
      "text/plain": [
       "<Figure size 432x288 with 1 Axes>"
      ]
     },
     "metadata": {
      "needs_background": "light"
     },
     "output_type": "display_data"
    }
   ],
   "source": [
    "# first, plot the observed data\n",
    "data.plot(kind='scatter', x='TV', y='Sales')\n",
    "\n",
    "# then, plot the least squares line\n",
    "plt.plot(X_new['TV'],preds, color='red',linewidth=2)\n",
    "plt.show()"
   ]
  },
  {
   "cell_type": "markdown",
   "metadata": {},
   "source": [
    "## Confidence in our Model\n",
    "\n",
    "**Question:** Is linear regression a high bias/low variance model, or a low bias/high variance model?"
   ]
  },
  {
   "cell_type": "markdown",
   "metadata": {},
   "source": [
    "What do we mean by the variance and bias of a statistical learning\n",
    "method?\n",
    "\n",
    "**Answer:** High bias/low variance. Under repeated sampling, the line will stay roughly in the same place (low variance), but the average of those models won't do a great job capturing the true relationship (high bias). Note that low variance is a useful characteristic when you don't have a lot of training data!"
   ]
  },
  {
   "cell_type": "code",
   "execution_count": 28,
   "metadata": {},
   "outputs": [],
   "source": [
    "import statsmodels.formula.api as sm\n",
    "lm=sm.ols(formula='Sales~TV',data=data).fit()"
   ]
  },
  {
   "cell_type": "code",
   "execution_count": 29,
   "metadata": {},
   "outputs": [
    {
     "data": {
      "text/plain": [
       "Intercept    6.974657\n",
       "TV           0.055465\n",
       "dtype: float64"
      ]
     },
     "execution_count": 29,
     "metadata": {},
     "output_type": "execute_result"
    }
   ],
   "source": [
    "lm.params"
   ]
  },
  {
   "cell_type": "code",
   "execution_count": 30,
   "metadata": {},
   "outputs": [
    {
     "data": {
      "text/html": [
       "<div>\n",
       "<style scoped>\n",
       "    .dataframe tbody tr th:only-of-type {\n",
       "        vertical-align: middle;\n",
       "    }\n",
       "\n",
       "    .dataframe tbody tr th {\n",
       "        vertical-align: top;\n",
       "    }\n",
       "\n",
       "    .dataframe thead th {\n",
       "        text-align: right;\n",
       "    }\n",
       "</style>\n",
       "<table border=\"1\" class=\"dataframe\">\n",
       "  <thead>\n",
       "    <tr style=\"text-align: right;\">\n",
       "      <th></th>\n",
       "      <th>0</th>\n",
       "      <th>1</th>\n",
       "    </tr>\n",
       "  </thead>\n",
       "  <tbody>\n",
       "    <tr>\n",
       "      <th>Intercept</th>\n",
       "      <td>6.338502</td>\n",
       "      <td>7.610813</td>\n",
       "    </tr>\n",
       "    <tr>\n",
       "      <th>TV</th>\n",
       "      <td>0.051727</td>\n",
       "      <td>0.059204</td>\n",
       "    </tr>\n",
       "  </tbody>\n",
       "</table>\n",
       "</div>"
      ],
      "text/plain": [
       "                  0         1\n",
       "Intercept  6.338502  7.610813\n",
       "TV         0.051727  0.059204"
      ]
     },
     "execution_count": 30,
     "metadata": {},
     "output_type": "execute_result"
    }
   ],
   "source": [
    "# print the confidence intervals for the model coefficients\n",
    "lm.conf_int()"
   ]
  },
  {
   "cell_type": "markdown",
   "metadata": {},
   "source": [
    "Keep in mind that we only have a **single sample of data**, and not the **entire population of data**. The \"true\" coefficient is either within this interval or it isn't, but there's no way to actually know. We estimate the coefficient with the data we do have, and we show uncertainty about that estimate by giving a range that the coefficient is **probably** within.\n",
    "\n",
    "Note that using 95% confidence intervals is just a convention. You can create 90% confidence intervals (which will be more narrow), 99% confidence intervals (which will be wider), or whatever intervals you like."
   ]
  },
  {
   "cell_type": "markdown",
   "metadata": {},
   "source": [
    "## Hypothesis Testing and p-values\n",
    "\n",
    "Closely related to confidence intervals is **hypothesis testing**. Generally speaking, we start with a **null hypothesis** and an **alternative hypothesis** (that is opposite the null). Then, check whether the data supports **rejecting the null hypothesis** or **failing to reject the null hypothesis**.\n",
    "\n",
    "(Note that \"failing to reject\" the null is not the same as \"accepting\" the null hypothesis. The alternative hypothesis may indeed be true, except that we just don't have enough data to show that.)\n",
    "\n",
    "As it relates to model coefficients, here is the conventional hypothesis test:\n",
    "- **null hypothesis:** There is no relationship between TV ads and Sales (and thus $\\beta_1$ equals zero)\n",
    "- **alternative hypothesis:** There is a relationship between TV ads and Sales (and thus $\\beta_1$ is not equal to zero)\n",
    "\n",
    "How do we test this hypothesis? Intuitively, we reject the null (and thus believe the alternative) if the 95% confidence interval **does not include zero**. Conversely, the **p-value** represents the probability that the coefficient is actually zero:"
   ]
  },
  {
   "cell_type": "code",
   "execution_count": 31,
   "metadata": {},
   "outputs": [
    {
     "data": {
      "text/plain": [
       "Intercept    5.126725e-54\n",
       "TV           8.064934e-74\n",
       "dtype: float64"
      ]
     },
     "execution_count": 31,
     "metadata": {},
     "output_type": "execute_result"
    }
   ],
   "source": [
    "# print the p-values for the model coefficients\n",
    "lm.pvalues"
   ]
  },
  {
   "cell_type": "markdown",
   "metadata": {},
   "source": [
    "If the 95% confidence interval **includes zero**, the p-value for that coefficient will be **greater than 0.05**. If the 95% confidence interval **does not include zero**, the p-value will be **less than 0.05**. Thus, a p-value less than 0.05 is one way to decide whether there is likely a relationship between the feature and the response. (Again, using 0.05 as the cutoff is just a convention.)\n",
    "\n",
    "In this case, the p-value for TV is far less than 0.05, and so we **believe** that there is a relationship between TV ads and Sales.\n",
    "\n",
    "Note that we generally ignore the p-value for the intercept."
   ]
  },
  {
   "cell_type": "markdown",
   "metadata": {},
   "source": [
    "## How Well Does the Model Fit the data?\n",
    "\n",
    "The most common way to evaluate the overall fit of a linear model is by the **R-squared** value. R-squared is the **proportion of variance explained**, meaning the proportion of variance in the observed data that is explained by the model, or the reduction in error over the **null model**. (The null model just predicts the mean of the observed response, and thus it has an intercept and no slope.)\n",
    "\n",
    "R-squared is between 0 and 1, and higher is better because it means that more variance is explained by the model."
   ]
  },
  {
   "cell_type": "markdown",
   "metadata": {},
   "source": [
    "Let's calculate the R-squared value for our simple linear model:"
   ]
  },
  {
   "cell_type": "code",
   "execution_count": 32,
   "metadata": {},
   "outputs": [
    {
     "data": {
      "text/plain": [
       "0.8121432271938711"
      ]
     },
     "execution_count": 32,
     "metadata": {},
     "output_type": "execute_result"
    }
   ],
   "source": [
    "# print the R-squared value for the model\n",
    "lm.rsquared"
   ]
  },
  {
   "cell_type": "markdown",
   "metadata": {},
   "source": [
    "Is that a \"good\" R-squared value? It's hard to say. The threshold for a good R-squared value depends widely on the domain. Therefore, it's most useful as a tool for **comparing different models**."
   ]
  },
  {
   "cell_type": "markdown",
   "metadata": {},
   "source": [
    "**Mean Square Error MSE**\n",
    "The mean squared error tells, how close a regression line is to a set of points. It does this by taking the distances from the points to the regression line (these distances are the “errors”) and squaring them. ... It's called the mean squared error as we're finding the average of a set of errors\n",
    "\n",
    "**In Least Squares Method, we are trying to minimize MSE**"
   ]
  },
  {
   "cell_type": "code",
   "execution_count": 33,
   "metadata": {},
   "outputs": [
    {
     "name": "stdout",
     "output_type": "stream",
     "text": [
      "Mean squared error: 5.22\n",
      "Coefficient of determination: 0.81\n"
     ]
    }
   ],
   "source": [
    "from sklearn.metrics import mean_squared_error, r2_score\n",
    "Y_pred = regr.predict(X)\n",
    "# The mean squared error\n",
    "print('Mean squared error: %.2f'% mean_squared_error(Y, Y_pred))\n",
    "print('Coefficient of determination: %.2f'% r2_score(Y, Y_pred))"
   ]
  },
  {
   "cell_type": "markdown",
   "metadata": {},
   "source": [
    "## Multiple Linear Regression\n",
    "\n",
    "Simple linear regression can easily be extended to include multiple features. This is called **multiple linear regression**:\n",
    "\n",
    "$y = \\beta_0 + \\beta_1x_1 + ... + \\beta_nx_n$\n",
    "\n",
    "Each $x$ represents a different feature, and each feature has its own coefficient. In this case:\n",
    "\n",
    "$y = \\beta_0 + \\beta_1 \\times TV + \\beta_2 \\times Radio + \\beta_3 \\times Newspaper$\n",
    "\n",
    "Let's use Statsmodels to estimate these coefficients:"
   ]
  },
  {
   "cell_type": "code",
   "execution_count": 34,
   "metadata": {},
   "outputs": [
    {
     "data": {
      "text/plain": [
       "Intercept    4.626189\n",
       "TV           0.054443\n",
       "Radio        0.106963\n",
       "Newspaper    0.000348\n",
       "dtype: float64"
      ]
     },
     "execution_count": 34,
     "metadata": {},
     "output_type": "execute_result"
    }
   ],
   "source": [
    "# create a fitted model with all three features\n",
    "import statsmodels.formula.api as smf\n",
    "lm = smf.ols(formula='Sales ~ TV + Radio + Newspaper', data=data).fit()\n",
    "\n",
    "# print the coefficients\n",
    "lm.params"
   ]
  },
  {
   "cell_type": "markdown",
   "metadata": {},
   "source": [
    "How do we interpret these coefficients? For a given amount of Radio and Newspaper ad spending, an **increase of $1000 in TV ad spending** is associated with an **increase in Sales of ~54 widgets**.\n",
    "\n",
    "A lot of the information we have been reviewing piece-by-piece is available in the model summary output:"
   ]
  },
  {
   "cell_type": "code",
   "execution_count": 35,
   "metadata": {},
   "outputs": [
    {
     "data": {
      "text/html": [
       "<table class=\"simpletable\">\n",
       "<caption>OLS Regression Results</caption>\n",
       "<tr>\n",
       "  <th>Dep. Variable:</th>          <td>Sales</td>      <th>  R-squared:         </th> <td>   0.903</td>\n",
       "</tr>\n",
       "<tr>\n",
       "  <th>Model:</th>                   <td>OLS</td>       <th>  Adj. R-squared:    </th> <td>   0.901</td>\n",
       "</tr>\n",
       "<tr>\n",
       "  <th>Method:</th>             <td>Least Squares</td>  <th>  F-statistic:       </th> <td>   605.0</td>\n",
       "</tr>\n",
       "<tr>\n",
       "  <th>Date:</th>             <td>Tue, 15 Aug 2023</td> <th>  Prob (F-statistic):</th> <td>8.55e-99</td>\n",
       "</tr>\n",
       "<tr>\n",
       "  <th>Time:</th>                 <td>13:42:11</td>     <th>  Log-Likelihood:    </th> <td> -383.39</td>\n",
       "</tr>\n",
       "<tr>\n",
       "  <th>No. Observations:</th>      <td>   200</td>      <th>  AIC:               </th> <td>   774.8</td>\n",
       "</tr>\n",
       "<tr>\n",
       "  <th>Df Residuals:</th>          <td>   196</td>      <th>  BIC:               </th> <td>   788.0</td>\n",
       "</tr>\n",
       "<tr>\n",
       "  <th>Df Model:</th>              <td>     3</td>      <th>                     </th>     <td> </td>   \n",
       "</tr>\n",
       "<tr>\n",
       "  <th>Covariance Type:</th>      <td>nonrobust</td>    <th>                     </th>     <td> </td>   \n",
       "</tr>\n",
       "</table>\n",
       "<table class=\"simpletable\">\n",
       "<tr>\n",
       "      <td></td>         <th>coef</th>     <th>std err</th>      <th>t</th>      <th>P>|t|</th>  <th>[0.025</th>    <th>0.975]</th>  \n",
       "</tr>\n",
       "<tr>\n",
       "  <th>Intercept</th> <td>    4.6262</td> <td>    0.308</td> <td>   15.042</td> <td> 0.000</td> <td>    4.020</td> <td>    5.233</td>\n",
       "</tr>\n",
       "<tr>\n",
       "  <th>TV</th>        <td>    0.0544</td> <td>    0.001</td> <td>   39.578</td> <td> 0.000</td> <td>    0.052</td> <td>    0.057</td>\n",
       "</tr>\n",
       "<tr>\n",
       "  <th>Radio</th>     <td>    0.1070</td> <td>    0.008</td> <td>   12.599</td> <td> 0.000</td> <td>    0.090</td> <td>    0.124</td>\n",
       "</tr>\n",
       "<tr>\n",
       "  <th>Newspaper</th> <td>    0.0003</td> <td>    0.006</td> <td>    0.060</td> <td> 0.952</td> <td>   -0.011</td> <td>    0.012</td>\n",
       "</tr>\n",
       "</table>\n",
       "<table class=\"simpletable\">\n",
       "<tr>\n",
       "  <th>Omnibus:</th>       <td>16.239</td> <th>  Durbin-Watson:     </th> <td>   2.250</td>\n",
       "</tr>\n",
       "<tr>\n",
       "  <th>Prob(Omnibus):</th> <td> 0.000</td> <th>  Jarque-Bera (JB):  </th> <td>  28.061</td>\n",
       "</tr>\n",
       "<tr>\n",
       "  <th>Skew:</th>          <td>-0.434</td> <th>  Prob(JB):          </th> <td>8.07e-07</td>\n",
       "</tr>\n",
       "<tr>\n",
       "  <th>Kurtosis:</th>      <td> 4.617</td> <th>  Cond. No.          </th> <td>    454.</td>\n",
       "</tr>\n",
       "</table><br/><br/>Notes:<br/>[1] Standard Errors assume that the covariance matrix of the errors is correctly specified."
      ],
      "text/plain": [
       "<class 'statsmodels.iolib.summary.Summary'>\n",
       "\"\"\"\n",
       "                            OLS Regression Results                            \n",
       "==============================================================================\n",
       "Dep. Variable:                  Sales   R-squared:                       0.903\n",
       "Model:                            OLS   Adj. R-squared:                  0.901\n",
       "Method:                 Least Squares   F-statistic:                     605.0\n",
       "Date:                Tue, 15 Aug 2023   Prob (F-statistic):           8.55e-99\n",
       "Time:                        13:42:11   Log-Likelihood:                -383.39\n",
       "No. Observations:                 200   AIC:                             774.8\n",
       "Df Residuals:                     196   BIC:                             788.0\n",
       "Df Model:                           3                                         \n",
       "Covariance Type:            nonrobust                                         \n",
       "==============================================================================\n",
       "                 coef    std err          t      P>|t|      [0.025      0.975]\n",
       "------------------------------------------------------------------------------\n",
       "Intercept      4.6262      0.308     15.042      0.000       4.020       5.233\n",
       "TV             0.0544      0.001     39.578      0.000       0.052       0.057\n",
       "Radio          0.1070      0.008     12.599      0.000       0.090       0.124\n",
       "Newspaper      0.0003      0.006      0.060      0.952      -0.011       0.012\n",
       "==============================================================================\n",
       "Omnibus:                       16.239   Durbin-Watson:                   2.250\n",
       "Prob(Omnibus):                  0.000   Jarque-Bera (JB):               28.061\n",
       "Skew:                          -0.434   Prob(JB):                     8.07e-07\n",
       "Kurtosis:                       4.617   Cond. No.                         454.\n",
       "==============================================================================\n",
       "\n",
       "Notes:\n",
       "[1] Standard Errors assume that the covariance matrix of the errors is correctly specified.\n",
       "\"\"\""
      ]
     },
     "execution_count": 35,
     "metadata": {},
     "output_type": "execute_result"
    }
   ],
   "source": [
    "# print a summary of the fitted model\n",
    "lm.summary()"
   ]
  },
  {
   "cell_type": "markdown",
   "metadata": {},
   "source": [
    "What are a few key things we learn from this output?\n",
    "\n",
    "- TV and Radio have significant **p-values**, whereas Newspaper does not. Thus we reject the null hypothesis for TV and Radio (that there is no association between those features and Sales), and fail to reject the null hypothesis for Newspaper.\n",
    "- TV and Radio ad spending are both **positively associated** with Sales, whereas Newspaper ad spending is **slightly negatively associated** with Sales. (However, this is irrelevant since we have failed to reject the null hypothesis for Newspaper.)\n",
    "- This model has a higher **R-squared** (0.90) than the previous model, which means that this model provides a better fit to the data than a model that only includes TV."
   ]
  },
  {
   "cell_type": "markdown",
   "metadata": {},
   "source": [
    "## Feature Selection\n",
    "\n",
    "How do I decide **which features to include** in a linear model? Here's one idea:\n",
    "- Try different models, and only keep predictors in the model if they have small p-values.\n",
    "- Check whether the R-squared value goes up when you add new predictors.\n",
    "\n",
    "What are the **drawbacks** to this approach?\n",
    "- Linear models rely upon a lot of **assumptions** (such as the features being independent), and if those assumptions are violated (which they usually are), R-squared and p-values are less reliable.\n",
    "- Using a p-value cutoff of 0.05 means that if you add 100 predictors to a model that are **pure noise**, 5 of them (on average) will still be counted as significant.\n",
    "- R-squared is susceptible to **overfitting**, and thus there is no guarantee that a model with a high R-squared value will generalize. Below is an example:"
   ]
  },
  {
   "cell_type": "code",
   "execution_count": 36,
   "metadata": {},
   "outputs": [
    {
     "data": {
      "text/plain": [
       "0.902539862921313"
      ]
     },
     "execution_count": 36,
     "metadata": {},
     "output_type": "execute_result"
    }
   ],
   "source": [
    "# only include TV and Radio in the model\n",
    "lm = smf.ols(formula='Sales ~ TV + Radio', data=data).fit()\n",
    "lm.rsquared"
   ]
  },
  {
   "cell_type": "code",
   "execution_count": 37,
   "metadata": {},
   "outputs": [
    {
     "data": {
      "text/plain": [
       "0.90254166331925"
      ]
     },
     "execution_count": 37,
     "metadata": {},
     "output_type": "execute_result"
    }
   ],
   "source": [
    "# add Newspaper to the model (which we believe has no association with Sales)\n",
    "lm = smf.ols(formula='Sales ~ TV + Radio + Newspaper', data=data).fit()\n",
    "lm.rsquared"
   ]
  },
  {
   "cell_type": "markdown",
   "metadata": {},
   "source": [
    "**R-squared will always increase as you add more features to the model**, even if they are unrelated to the response. Thus, selecting the model with the highest R-squared is not a reliable approach for choosing the best linear model.\n",
    "\n",
    "There is alternative to R-squared called **adjusted R-squared** that penalizes model complexity (to control for overfitting). Adjusted R-squared increases only when a significant predictor is added to the model.\n"
   ]
  },
  {
   "cell_type": "markdown",
   "metadata": {},
   "source": [
    "## Linear Regression in scikit-learn\n",
    "\n",
    "Let's do some of the Statsmodels code using normalized data in scikit-learn:"
   ]
  },
  {
   "cell_type": "code",
   "execution_count": 38,
   "metadata": {},
   "outputs": [
    {
     "name": "stdout",
     "output_type": "stream",
     "text": [
      "5.0019571059390415\n",
      "[15.68969054  5.52021739 -0.35075758]\n"
     ]
    }
   ],
   "source": [
    "from sklearn.linear_model import LinearRegression\n",
    "lm = LinearRegression()\n",
    "lm.fit(x_train,y_train)\n",
    "\n",
    "# print intercept and coefficients\n",
    "print(lm.intercept_)\n",
    "print(lm.coef_)"
   ]
  },
  {
   "cell_type": "code",
   "execution_count": 39,
   "metadata": {},
   "outputs": [
    {
     "data": {
      "text/plain": [
       "0.9132301107304046"
      ]
     },
     "execution_count": 39,
     "metadata": {},
     "output_type": "execute_result"
    }
   ],
   "source": [
    "# calculate the R-squared\n",
    "lm.score(x_train,y_train)"
   ]
  },
  {
   "cell_type": "markdown",
   "metadata": {},
   "source": [
    "Observed that their is little increase in R-squared value with normalized data."
   ]
  },
  {
   "cell_type": "code",
   "execution_count": 40,
   "metadata": {},
   "outputs": [
    {
     "data": {
      "text/plain": [
       "array([10.93705337,  8.89675125,  9.7898445 , 25.25984075, 14.95182018,\n",
       "        8.53820211, 10.65420777, 18.77637057,  9.95769236, 18.24124964,\n",
       "       23.75040581, 10.91767984, 13.71344526, 17.47681974, 12.01023094,\n",
       "       13.62859376, 21.61015092,  9.39893585, 14.38741854, 19.24887344,\n",
       "       25.16054477, 12.74706562, 16.8755176 , 14.04825283,  8.00277667,\n",
       "       15.46330854, 15.00246181, 21.06774   , 17.3314513 ,  9.0455254 ,\n",
       "       12.36848877, 21.09307726, 21.63452935, 22.25613158,  7.28204771,\n",
       "        7.23628269,  9.38706365, 15.79223307, 13.52753404,  7.43605823])"
      ]
     },
     "execution_count": 40,
     "metadata": {},
     "output_type": "execute_result"
    }
   ],
   "source": [
    "lm.predict(x_test)"
   ]
  },
  {
   "cell_type": "code",
   "execution_count": 41,
   "metadata": {},
   "outputs": [
    {
     "data": {
      "text/plain": [
       "array([11.3,  8.4, 12. , 25.4, 16.7,  8.7,  7.2, 18.2,  9.2, 16.6, 24.2,\n",
       "       10.6, 15.5, 20.6, 11.8, 13.2, 17.4,  1.6, 14.7, 17. , 26.2, 10.3,\n",
       "       16.1, 12.9,  8.1, 15.2, 17.6, 22.6, 16.6,  8.5, 12.5, 23.7, 16.1,\n",
       "       21.8,  5.6,  6.7,  9.7, 17.9, 13.6,  7.2])"
      ]
     },
     "execution_count": 41,
     "metadata": {},
     "output_type": "execute_result"
    }
   ],
   "source": [
    "from numpy import array\n",
    "array(y_test)"
   ]
  },
  {
   "cell_type": "code",
   "execution_count": 42,
   "metadata": {},
   "outputs": [
    {
     "name": "stdout",
     "output_type": "stream",
     "text": [
      "Test MSE: 4.636087364025291\n"
     ]
    }
   ],
   "source": [
    "from sklearn.metrics import mean_squared_error as mse\n",
    "print(\"Test MSE:\",mse(y_test,lm.predict(x_test)))"
   ]
  },
  {
   "cell_type": "code",
   "execution_count": 43,
   "metadata": {},
   "outputs": [
    {
     "name": "stdout",
     "output_type": "stream",
     "text": [
      "Training MSE: 2.2670341514931907\n"
     ]
    }
   ],
   "source": [
    "print(\"Training MSE:\",mse(y_train,lm.predict(x_train)))"
   ]
  },
  {
   "cell_type": "markdown",
   "metadata": {},
   "source": [
    "Testing error is greater than training error. Hence we can say that the model has high variance. To get more accurate model we need to perform hyper-parametertuning."
   ]
  },
  {
   "cell_type": "markdown",
   "metadata": {},
   "source": [
    "### Hyper-parameter tuning using Lasso"
   ]
  },
  {
   "cell_type": "code",
   "execution_count": 44,
   "metadata": {},
   "outputs": [],
   "source": [
    "from sklearn.linear_model import Lasso\n",
    "from sklearn.model_selection import GridSearchCV\n",
    "lasso=Lasso()"
   ]
  },
  {
   "cell_type": "code",
   "execution_count": 45,
   "metadata": {},
   "outputs": [
    {
     "data": {
      "text/html": [
       "<style>#sk-container-id-1 {color: black;background-color: white;}#sk-container-id-1 pre{padding: 0;}#sk-container-id-1 div.sk-toggleable {background-color: white;}#sk-container-id-1 label.sk-toggleable__label {cursor: pointer;display: block;width: 100%;margin-bottom: 0;padding: 0.3em;box-sizing: border-box;text-align: center;}#sk-container-id-1 label.sk-toggleable__label-arrow:before {content: \"▸\";float: left;margin-right: 0.25em;color: #696969;}#sk-container-id-1 label.sk-toggleable__label-arrow:hover:before {color: black;}#sk-container-id-1 div.sk-estimator:hover label.sk-toggleable__label-arrow:before {color: black;}#sk-container-id-1 div.sk-toggleable__content {max-height: 0;max-width: 0;overflow: hidden;text-align: left;background-color: #f0f8ff;}#sk-container-id-1 div.sk-toggleable__content pre {margin: 0.2em;color: black;border-radius: 0.25em;background-color: #f0f8ff;}#sk-container-id-1 input.sk-toggleable__control:checked~div.sk-toggleable__content {max-height: 200px;max-width: 100%;overflow: auto;}#sk-container-id-1 input.sk-toggleable__control:checked~label.sk-toggleable__label-arrow:before {content: \"▾\";}#sk-container-id-1 div.sk-estimator input.sk-toggleable__control:checked~label.sk-toggleable__label {background-color: #d4ebff;}#sk-container-id-1 div.sk-label input.sk-toggleable__control:checked~label.sk-toggleable__label {background-color: #d4ebff;}#sk-container-id-1 input.sk-hidden--visually {border: 0;clip: rect(1px 1px 1px 1px);clip: rect(1px, 1px, 1px, 1px);height: 1px;margin: -1px;overflow: hidden;padding: 0;position: absolute;width: 1px;}#sk-container-id-1 div.sk-estimator {font-family: monospace;background-color: #f0f8ff;border: 1px dotted black;border-radius: 0.25em;box-sizing: border-box;margin-bottom: 0.5em;}#sk-container-id-1 div.sk-estimator:hover {background-color: #d4ebff;}#sk-container-id-1 div.sk-parallel-item::after {content: \"\";width: 100%;border-bottom: 1px solid gray;flex-grow: 1;}#sk-container-id-1 div.sk-label:hover label.sk-toggleable__label {background-color: #d4ebff;}#sk-container-id-1 div.sk-serial::before {content: \"\";position: absolute;border-left: 1px solid gray;box-sizing: border-box;top: 0;bottom: 0;left: 50%;z-index: 0;}#sk-container-id-1 div.sk-serial {display: flex;flex-direction: column;align-items: center;background-color: white;padding-right: 0.2em;padding-left: 0.2em;position: relative;}#sk-container-id-1 div.sk-item {position: relative;z-index: 1;}#sk-container-id-1 div.sk-parallel {display: flex;align-items: stretch;justify-content: center;background-color: white;position: relative;}#sk-container-id-1 div.sk-item::before, #sk-container-id-1 div.sk-parallel-item::before {content: \"\";position: absolute;border-left: 1px solid gray;box-sizing: border-box;top: 0;bottom: 0;left: 50%;z-index: -1;}#sk-container-id-1 div.sk-parallel-item {display: flex;flex-direction: column;z-index: 1;position: relative;background-color: white;}#sk-container-id-1 div.sk-parallel-item:first-child::after {align-self: flex-end;width: 50%;}#sk-container-id-1 div.sk-parallel-item:last-child::after {align-self: flex-start;width: 50%;}#sk-container-id-1 div.sk-parallel-item:only-child::after {width: 0;}#sk-container-id-1 div.sk-dashed-wrapped {border: 1px dashed gray;margin: 0 0.4em 0.5em 0.4em;box-sizing: border-box;padding-bottom: 0.4em;background-color: white;}#sk-container-id-1 div.sk-label label {font-family: monospace;font-weight: bold;display: inline-block;line-height: 1.2em;}#sk-container-id-1 div.sk-label-container {text-align: center;}#sk-container-id-1 div.sk-container {/* jupyter's `normalize.less` sets `[hidden] { display: none; }` but bootstrap.min.css set `[hidden] { display: none !important; }` so we also need the `!important` here to be able to override the default hidden behavior on the sphinx rendered scikit-learn.org. See: https://github.com/scikit-learn/scikit-learn/issues/21755 */display: inline-block !important;position: relative;}#sk-container-id-1 div.sk-text-repr-fallback {display: none;}</style><div id=\"sk-container-id-1\" class=\"sk-top-container\"><div class=\"sk-text-repr-fallback\"><pre>GridSearchCV(cv=5, estimator=Lasso(),\n",
       "             param_grid={&#x27;alpha&#x27;: array([1.e-04, 1.e-03, 1.e-02, 1.e-01, 1.e+00, 1.e+01, 1.e+02, 1.e+03,\n",
       "       1.e+04])})</pre><b>In a Jupyter environment, please rerun this cell to show the HTML representation or trust the notebook. <br />On GitHub, the HTML representation is unable to render, please try loading this page with nbviewer.org.</b></div><div class=\"sk-container\" hidden><div class=\"sk-item sk-dashed-wrapped\"><div class=\"sk-label-container\"><div class=\"sk-label sk-toggleable\"><input class=\"sk-toggleable__control sk-hidden--visually\" id=\"sk-estimator-id-1\" type=\"checkbox\" ><label for=\"sk-estimator-id-1\" class=\"sk-toggleable__label sk-toggleable__label-arrow\">GridSearchCV</label><div class=\"sk-toggleable__content\"><pre>GridSearchCV(cv=5, estimator=Lasso(),\n",
       "             param_grid={&#x27;alpha&#x27;: array([1.e-04, 1.e-03, 1.e-02, 1.e-01, 1.e+00, 1.e+01, 1.e+02, 1.e+03,\n",
       "       1.e+04])})</pre></div></div></div><div class=\"sk-parallel\"><div class=\"sk-parallel-item\"><div class=\"sk-item\"><div class=\"sk-label-container\"><div class=\"sk-label sk-toggleable\"><input class=\"sk-toggleable__control sk-hidden--visually\" id=\"sk-estimator-id-2\" type=\"checkbox\" ><label for=\"sk-estimator-id-2\" class=\"sk-toggleable__label sk-toggleable__label-arrow\">estimator: Lasso</label><div class=\"sk-toggleable__content\"><pre>Lasso()</pre></div></div></div><div class=\"sk-serial\"><div class=\"sk-item\"><div class=\"sk-estimator sk-toggleable\"><input class=\"sk-toggleable__control sk-hidden--visually\" id=\"sk-estimator-id-3\" type=\"checkbox\" ><label for=\"sk-estimator-id-3\" class=\"sk-toggleable__label sk-toggleable__label-arrow\">Lasso</label><div class=\"sk-toggleable__content\"><pre>Lasso()</pre></div></div></div></div></div></div></div></div></div></div>"
      ],
      "text/plain": [
       "GridSearchCV(cv=5, estimator=Lasso(),\n",
       "             param_grid={'alpha': array([1.e-04, 1.e-03, 1.e-02, 1.e-01, 1.e+00, 1.e+01, 1.e+02, 1.e+03,\n",
       "       1.e+04])})"
      ]
     },
     "execution_count": 45,
     "metadata": {},
     "output_type": "execute_result"
    }
   ],
   "source": [
    "alpha= np.logspace(-4,4,9)\n",
    "param={'alpha':alpha}\n",
    "search=GridSearchCV(lasso,param,cv=5)\n",
    "search.fit(x_train,y_train)"
   ]
  },
  {
   "cell_type": "code",
   "execution_count": 46,
   "metadata": {},
   "outputs": [
    {
     "name": "stdout",
     "output_type": "stream",
     "text": [
      "Best alpha: 0.01\n",
      "Best Score: 0.9036004555138953\n"
     ]
    }
   ],
   "source": [
    "print(\"Best alpha:\",search.best_params_['alpha'])\n",
    "print(\"Best Score:\",search.best_score_)"
   ]
  },
  {
   "cell_type": "code",
   "execution_count": 47,
   "metadata": {},
   "outputs": [
    {
     "data": {
      "text/html": [
       "<style>#sk-container-id-2 {color: black;background-color: white;}#sk-container-id-2 pre{padding: 0;}#sk-container-id-2 div.sk-toggleable {background-color: white;}#sk-container-id-2 label.sk-toggleable__label {cursor: pointer;display: block;width: 100%;margin-bottom: 0;padding: 0.3em;box-sizing: border-box;text-align: center;}#sk-container-id-2 label.sk-toggleable__label-arrow:before {content: \"▸\";float: left;margin-right: 0.25em;color: #696969;}#sk-container-id-2 label.sk-toggleable__label-arrow:hover:before {color: black;}#sk-container-id-2 div.sk-estimator:hover label.sk-toggleable__label-arrow:before {color: black;}#sk-container-id-2 div.sk-toggleable__content {max-height: 0;max-width: 0;overflow: hidden;text-align: left;background-color: #f0f8ff;}#sk-container-id-2 div.sk-toggleable__content pre {margin: 0.2em;color: black;border-radius: 0.25em;background-color: #f0f8ff;}#sk-container-id-2 input.sk-toggleable__control:checked~div.sk-toggleable__content {max-height: 200px;max-width: 100%;overflow: auto;}#sk-container-id-2 input.sk-toggleable__control:checked~label.sk-toggleable__label-arrow:before {content: \"▾\";}#sk-container-id-2 div.sk-estimator input.sk-toggleable__control:checked~label.sk-toggleable__label {background-color: #d4ebff;}#sk-container-id-2 div.sk-label input.sk-toggleable__control:checked~label.sk-toggleable__label {background-color: #d4ebff;}#sk-container-id-2 input.sk-hidden--visually {border: 0;clip: rect(1px 1px 1px 1px);clip: rect(1px, 1px, 1px, 1px);height: 1px;margin: -1px;overflow: hidden;padding: 0;position: absolute;width: 1px;}#sk-container-id-2 div.sk-estimator {font-family: monospace;background-color: #f0f8ff;border: 1px dotted black;border-radius: 0.25em;box-sizing: border-box;margin-bottom: 0.5em;}#sk-container-id-2 div.sk-estimator:hover {background-color: #d4ebff;}#sk-container-id-2 div.sk-parallel-item::after {content: \"\";width: 100%;border-bottom: 1px solid gray;flex-grow: 1;}#sk-container-id-2 div.sk-label:hover label.sk-toggleable__label {background-color: #d4ebff;}#sk-container-id-2 div.sk-serial::before {content: \"\";position: absolute;border-left: 1px solid gray;box-sizing: border-box;top: 0;bottom: 0;left: 50%;z-index: 0;}#sk-container-id-2 div.sk-serial {display: flex;flex-direction: column;align-items: center;background-color: white;padding-right: 0.2em;padding-left: 0.2em;position: relative;}#sk-container-id-2 div.sk-item {position: relative;z-index: 1;}#sk-container-id-2 div.sk-parallel {display: flex;align-items: stretch;justify-content: center;background-color: white;position: relative;}#sk-container-id-2 div.sk-item::before, #sk-container-id-2 div.sk-parallel-item::before {content: \"\";position: absolute;border-left: 1px solid gray;box-sizing: border-box;top: 0;bottom: 0;left: 50%;z-index: -1;}#sk-container-id-2 div.sk-parallel-item {display: flex;flex-direction: column;z-index: 1;position: relative;background-color: white;}#sk-container-id-2 div.sk-parallel-item:first-child::after {align-self: flex-end;width: 50%;}#sk-container-id-2 div.sk-parallel-item:last-child::after {align-self: flex-start;width: 50%;}#sk-container-id-2 div.sk-parallel-item:only-child::after {width: 0;}#sk-container-id-2 div.sk-dashed-wrapped {border: 1px dashed gray;margin: 0 0.4em 0.5em 0.4em;box-sizing: border-box;padding-bottom: 0.4em;background-color: white;}#sk-container-id-2 div.sk-label label {font-family: monospace;font-weight: bold;display: inline-block;line-height: 1.2em;}#sk-container-id-2 div.sk-label-container {text-align: center;}#sk-container-id-2 div.sk-container {/* jupyter's `normalize.less` sets `[hidden] { display: none; }` but bootstrap.min.css set `[hidden] { display: none !important; }` so we also need the `!important` here to be able to override the default hidden behavior on the sphinx rendered scikit-learn.org. See: https://github.com/scikit-learn/scikit-learn/issues/21755 */display: inline-block !important;position: relative;}#sk-container-id-2 div.sk-text-repr-fallback {display: none;}</style><div id=\"sk-container-id-2\" class=\"sk-top-container\"><div class=\"sk-text-repr-fallback\"><pre>Lasso(alpha=0.01)</pre><b>In a Jupyter environment, please rerun this cell to show the HTML representation or trust the notebook. <br />On GitHub, the HTML representation is unable to render, please try loading this page with nbviewer.org.</b></div><div class=\"sk-container\" hidden><div class=\"sk-item\"><div class=\"sk-estimator sk-toggleable\"><input class=\"sk-toggleable__control sk-hidden--visually\" id=\"sk-estimator-id-4\" type=\"checkbox\" checked><label for=\"sk-estimator-id-4\" class=\"sk-toggleable__label sk-toggleable__label-arrow\">Lasso</label><div class=\"sk-toggleable__content\"><pre>Lasso(alpha=0.01)</pre></div></div></div></div></div>"
      ],
      "text/plain": [
       "Lasso(alpha=0.01)"
      ]
     },
     "execution_count": 47,
     "metadata": {},
     "output_type": "execute_result"
    }
   ],
   "source": [
    "final_model=Lasso(alpha=search.best_params_['alpha'])\n",
    "final_model.fit(x_train,y_train)"
   ]
  },
  {
   "cell_type": "code",
   "execution_count": 48,
   "metadata": {},
   "outputs": [
    {
     "data": {
      "text/plain": [
       "0.8619892403420144"
      ]
     },
     "execution_count": 48,
     "metadata": {},
     "output_type": "execute_result"
    }
   ],
   "source": [
    "# R-squred\n",
    "final_model.score(x_test,y_test)"
   ]
  },
  {
   "cell_type": "code",
   "execution_count": 49,
   "metadata": {},
   "outputs": [
    {
     "name": "stdout",
     "output_type": "stream",
     "text": [
      "Test MSE: 4.606536936940207\n",
      "Training MSE: 2.2734339423301595\n"
     ]
    }
   ],
   "source": [
    "from sklearn.metrics import mean_squared_error as mse\n",
    "print(\"Test MSE:\",mse(y_test,final_model.predict(x_test)))\n",
    "print(\"Training MSE:\",mse(y_train,final_model.predict(x_train)))"
   ]
  },
  {
   "cell_type": "markdown",
   "metadata": {},
   "source": [
    "Great ! We have observed slight improvement in the model after parameter tuning."
   ]
  },
  {
   "cell_type": "code",
   "execution_count": null,
   "metadata": {},
   "outputs": [],
   "source": []
  }
 ],
 "metadata": {
  "kernelspec": {
   "display_name": "Python 3 (ipykernel)",
   "language": "python",
   "name": "python3"
  },
  "language_info": {
   "codemirror_mode": {
    "name": "ipython",
    "version": 3
   },
   "file_extension": ".py",
   "mimetype": "text/x-python",
   "name": "python",
   "nbconvert_exporter": "python",
   "pygments_lexer": "ipython3",
   "version": "3.9.12"
  }
 },
 "nbformat": 4,
 "nbformat_minor": 1
}
